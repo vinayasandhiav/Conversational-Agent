{
 "cells": [
  {
   "cell_type": "code",
   "execution_count": 29,
   "metadata": {},
   "outputs": [],
   "source": [
    "from sklearn.naive_bayes import MultinomialNB\n",
    "from sklearn.feature_extraction.text import CountVectorizer\n",
    "import pandas as pd\n",
    "import seaborn as sns\n",
    "import matplotlib.pyplot as plt"
   ]
  },
  {
   "cell_type": "code",
   "execution_count": 30,
   "metadata": {},
   "outputs": [
    {
     "data": {
      "text/html": [
       "<div>\n",
       "<style scoped>\n",
       "    .dataframe tbody tr th:only-of-type {\n",
       "        vertical-align: middle;\n",
       "    }\n",
       "\n",
       "    .dataframe tbody tr th {\n",
       "        vertical-align: top;\n",
       "    }\n",
       "\n",
       "    .dataframe thead th {\n",
       "        text-align: right;\n",
       "    }\n",
       "</style>\n",
       "<table border=\"1\" class=\"dataframe\">\n",
       "  <thead>\n",
       "    <tr style=\"text-align: right;\">\n",
       "      <th></th>\n",
       "      <th>S.No</th>\n",
       "      <th>Question</th>\n",
       "      <th>Category</th>\n",
       "      <th>Answers</th>\n",
       "    </tr>\n",
       "  </thead>\n",
       "  <tbody>\n",
       "    <tr>\n",
       "      <th>0</th>\n",
       "      <td>1</td>\n",
       "      <td>I am unable to connect to admission department.</td>\n",
       "      <td>Admission</td>\n",
       "      <td>You can write to admissions@reva.edu.in. One o...</td>\n",
       "    </tr>\n",
       "    <tr>\n",
       "      <th>1</th>\n",
       "      <td>2</td>\n",
       "      <td>What are the UG courses offered?</td>\n",
       "      <td>Admission</td>\n",
       "      <td>Computer Applications, Arts and Humanity,  Law...</td>\n",
       "    </tr>\n",
       "    <tr>\n",
       "      <th>2</th>\n",
       "      <td>3</td>\n",
       "      <td>What are the Computer Applications courses off...</td>\n",
       "      <td>Admission</td>\n",
       "      <td>Bachelor of Computer Applications (BCA)</td>\n",
       "    </tr>\n",
       "    <tr>\n",
       "      <th>3</th>\n",
       "      <td>4</td>\n",
       "      <td>What are the Arts and Humanity courses offered...</td>\n",
       "      <td>Admission</td>\n",
       "      <td>1.\\tBA in Political Science, Economics and Jou...</td>\n",
       "    </tr>\n",
       "    <tr>\n",
       "      <th>4</th>\n",
       "      <td>5</td>\n",
       "      <td>What are the Law courses offered in UG</td>\n",
       "      <td>Admission</td>\n",
       "      <td>1.\\tBachelor of Arts and Bachelor of Laws (B.A...</td>\n",
       "    </tr>\n",
       "  </tbody>\n",
       "</table>\n",
       "</div>"
      ],
      "text/plain": [
       "   S.No                                           Question   Category  \\\n",
       "0     1    I am unable to connect to admission department.  Admission   \n",
       "1     2                   What are the UG courses offered?  Admission   \n",
       "2     3  What are the Computer Applications courses off...  Admission   \n",
       "3     4  What are the Arts and Humanity courses offered...  Admission   \n",
       "4     5             What are the Law courses offered in UG  Admission   \n",
       "\n",
       "                                             Answers  \n",
       "0  You can write to admissions@reva.edu.in. One o...  \n",
       "1  Computer Applications, Arts and Humanity,  Law...  \n",
       "2            Bachelor of Computer Applications (BCA)  \n",
       "3  1.\\tBA in Political Science, Economics and Jou...  \n",
       "4  1.\\tBachelor of Arts and Bachelor of Laws (B.A...  "
      ]
     },
     "execution_count": 30,
     "metadata": {},
     "output_type": "execute_result"
    }
   ],
   "source": [
    "df=pd.read_csv(\"Corpus_to_test.csv\",encoding='latin-1')\n",
    "df.head()"
   ]
  },
  {
   "cell_type": "code",
   "execution_count": 31,
   "metadata": {},
   "outputs": [
    {
     "data": {
      "text/plain": [
       "S.No        0\n",
       "Question    0\n",
       "Category    0\n",
       "Answers     0\n",
       "dtype: int64"
      ]
     },
     "execution_count": 31,
     "metadata": {},
     "output_type": "execute_result"
    }
   ],
   "source": [
    "df.isnull().sum()"
   ]
  },
  {
   "cell_type": "code",
   "execution_count": 32,
   "metadata": {},
   "outputs": [],
   "source": [
    "df = df.dropna(how='any',axis=0) "
   ]
  },
  {
   "cell_type": "code",
   "execution_count": 33,
   "metadata": {},
   "outputs": [
    {
     "data": {
      "text/plain": [
       "<matplotlib.axes._subplots.AxesSubplot at 0x232e4a8ae80>"
      ]
     },
     "execution_count": 33,
     "metadata": {},
     "output_type": "execute_result"
    },
    {
     "data": {
      "image/png": "[encoded data removed]",
      "text/plain": [
       "<Figure size 432x288 with 1 Axes>"
      ]
     },
     "metadata": {},
     "output_type": "display_data"
    }
   ],
   "source": [
    "sns.countplot(x='Category', data=df)"
   ]
  },
  {
   "cell_type": "code",
   "execution_count": 34,
   "metadata": {},
   "outputs": [
    {
     "name": "stdout",
     "output_type": "stream",
     "text": [
      "['I', 'am', 'unable', 'to', 'connect', 'to', 'admission', 'department.', 'What', 'are', 'the', 'UG', 'courses', 'offered?', 'What', 'are', 'the', 'Computer', 'Applications', 'courses', 'offered', 'in', 'UG?', 'What', 'are', 'the', 'Arts', 'and', 'Humanity', 'courses', 'offered', 'in', 'UG', 'What', 'are', 'the', 'Law', 'courses', 'offered', 'in', 'UG', 'What', 'are', 'the', 'Architecture', 'courses', 'offered', 'in', 'UG', 'What', 'are', 'the', 'Certification', 'program', 'offered', 'in', 'UG', 'What', 'are', 'the', 'Management', '(BBA)', 'courses', 'offered', 'in', 'UG', 'What', 'are', 'the', 'PG', 'courses', 'offered?', 'What', 'are', 'the', 'Mtech', 'courses', 'offered?', 'What', 'are', 'the', 'MA', 'courses', 'offered?', 'What', 'are', 'the', 'MSc', 'courses', 'offered?', 'What', 'are', 'the', 'MPlan', 'courses', 'offered?', 'What', 'are', 'the', 'MCom', 'courses', 'offered?', 'What', 'are', 'the', 'MPA', 'courses', 'offered?', 'What', 'are', 'the', 'MCA', 'courses', 'offered?', 'What', 'are', 'the', 'LLM', 'courses', 'offered?', 'What', 'are', 'the', 'MBA', 'courses', 'offered?', 'What', 'are', 'the', 'PhD', 'courses', 'offered?', 'What', 'are', 'the', 'part', 'time', 'courses', 'offered?', 'What', 'are', 'the', 'fees', 'to', 'be', 'paid', 'for', 'a', 'course?', 'Information', 'about', 'university', 'and', 'number', 'of', 'courses', 'offered.', 'Admission', 'process', 'for', 'REVA', 'CET', 'and', 'list', 'of', 'programs', 'accepting', 'REVA', 'CET.', 'What', 'is', 'the', 'enrollment', 'Process', 'for', 'International', 'Admission?', 'How', 'REVA', 'train', 'its', 'students', 'for', 'placements?', 'What', 'is', 'REVA', 'affiliated', 'to?', 'What', 'makes', 'REVA', 'unique', 'from', 'other', 'universities?', 'What', 'are', 'the', 'other', 'accreditations', 'and', 'recognitions', 'of', 'REVA', 'Universities?', 'Do', 'I', 'get', 'laptop', 'on', 'joining', 'REVA?', 'What', 'are', 'different', 'extracurricular', 'activities', 'in', 'REVA?', 'How', 'is', 'life', 'at', 'REVA?', 'Does', 'REVA', 'charge', 'donations?', 'Does', 'REVA', 'has', 'a', 'hostel?', 'Does', 'Reva', 'have', '100%', 'placements?', 'Does', 'REVA', 'have', 'a', 'scholarship', 'exam?', 'Contact', 'info', 'of', 'REVA', 'University?', 'Can', 'I', 'visit', 'the', 'University?', 'Scholarships', 'offered', 'to', 'deserving', 'students', 'Education', 'loans', 'offered', 'to', 'students', 'Download', 'brochure', 'Request', 'call', 'back', 'on', 'registered', 'number', 'Who', 'is', 'the', 'founding', 'chairman', 'of', 'REVA', 'University', 'Who', 'is', 'the', 'head', 'of', 'the', 'career', 'development', 'cell', 'What', 'is', 'the', 'Application', 'Fees', 'Do', 'you', 'offer', 'sports', 'quota?', 'What', 'are', 'the', 'documents', 'required', 'for', 'admissions?', 'Can', 'I', 'make', 'partial', 'payment', 'after', 'selection', 'to', 'block', 'my', 'seat', 'at', 'REVA', 'University?', 'Can', 'I', 'apply', 'for', 'more', 'than', '1', 'program?', 'Do', 'you', 'have', 'provisions', 'for', 'differently', 'abled', 'students?', 'How', 'big', 'is', 'the', 'campus?', 'How', 'far', 'is', 'it', 'from', 'the', 'city?', 'How', 'far', 'is', 'the', 'airport', 'from', 'the', 'campus?', 'PGs', 'around', 'REVA', 'Is', 'transport', 'available?', 'What', 'is', 'the', 'procedure', 'to', 'avail', 'transport', 'facility?', 'Cost', 'of', 'REVA', 'bus', 'Events', 'hosted', 'at', 'REVA', 'university', 'Holidays', 'Virtual', 'Campus', 'Tour', 'Is', 'REVA', 'University', 'a', 'private', 'university?', 'Is', 'REVA', 'University', 'recognized', 'by', 'UGC?', 'What', 'are', 'other', 'accreditations', 'and', 'recognitions', 'of', 'REVA', 'University?', 'Does', 'REVA', 'University', 'have', 'its', 'own', 'syllabus?', 'What', 'is', 'the', 'eligibility', 'criteria', 'for', 'a', 'program?', 'When', 'will', 'Admission', 'Applications', 'be', 'issued?', 'Can', 'I', 'apply', 'online?', 'How', 'can', 'one', 'apply', 'for', 'admissions?', 'What', 'is', 'the', 'application', 'timeline', 'for', 'admissions?', 'What', 'is', 'the', 'eligibility', 'criteria', 'for', 'taking', 'admission', 'for', 'engineering', 'programs?', 'What', 'is', 'the', 'eligibility', 'criteria', 'for', 'Architecture', 'admission?', 'Is', 'NATA', 'compulsory', 'for', 'Architecture', 'admission?', 'When', 'can', 'an', 'application', 'get', 'rejected', 'and', 'will', 'I', 'get', 'a', 'refund?', 'What', 'is', 'the', 'application', 'fee?', 'When', 'does', 'the', 'Engineering', 'course', 'commence?', 'What', 'is', 'the', 'CET', 'code', 'of', 'REVA', 'University?', 'What', 'is', 'the', 'COMEDK', 'code', 'of', 'REVA', 'University?', 'What', 'is', 'the', 'PGCET', 'code', 'of', 'REVA', 'University?', 'What', 'are', 'the', 'different', 'payment', 'modes', 'for', 'admission?', 'What', 'are', 'the', 'modes', 'of', 'admission', 'at', 'REVA', 'University', 'for', 'engineering', 'students?', 'What', 'documents', 'are', 'required', 'for', 'UG', 'admission?', 'What', 'is', 'the', 'level', 'of', 'attendance', 'to', 'be', 'maintained', 'for', 'eligibility', 'to', 'take', 'exams', 'at', 'REVA?', 'Is', 'there', 'ragging', 'at', 'REVA', 'University?', 'Is', 'there', 'any', 'uniform', 'at', 'REVA', 'University?', 'Is', 'there', 'a', 'counselling', 'center', 'at', 'REVA', 'University?', 'Is', 'the', 'campus', 'Wi-Fi', 'enabled?', 'What', 'are', 'the', 'working', 'hours', 'of', 'the', 'University?', 'Administration', 'Office', 'hours:', 'Are', 'there', 'sports,', 'NCC', 'facilities', 'in', 'the', 'campus?', 'Are', 'there', 'medical', 'services', 'in', 'campus?', 'Is', 'there', 'a', 'food', 'court', 'in', 'the', 'campus?', 'How', 'is', 'the', 'security', 'arrangement', 'in', 'campus?', 'Is', 'there', 'accommodation', 'in', 'campus?', 'Are', 'there', 'student', 'exchange', 'programs', 'at', 'REVA', 'University?', 'What', 'assessment', 'pattern', 'is', 'followed', 'at', 'REVA', 'University?', 'Will', 'I', 'get', 'a', 'refund', 'if', 'I', 'cancel', 'my', 'admission?', 'Is', 'there', 'provision', 'for', 'admission', 'through', 'Defense', 'Quota?', 'Do', 'you', 'consider', 'admission', 'from', 'NTTF?', 'Do', 'you', 'consider', 'admission', 'from', 'JEE', 'Mains', 'percentile', 'score?', 'What', 'is', 'the', 'minimum', 'score', 'in', 'JEE', 'Mains?', 'Top', 'recruiters', 'that', 'come', 'to', 'REVA', 'University', 'What', 'is', 'the', 'average', 'and', 'highest', 'package?', 'Does', 'REVA', 'consider', 'open', 'school?', 'What', 'is', 'REVA', 'CET?', 'What', 'is', 'the', 'Uni-GAUGE', 'entrance', 'exam', 'process?', 'The', 'amount', 'is', 'deducted', 'from', 'my', 'account', 'but', 'is', 'showing', 'as', 'pending', 'on', 'REVA', 'dashboard.', 'Does', 'REVA', 'conduct', 'interview', 'for', 'admission?', 'Is', 'REVA', 'University', 'degree', 'valid', 'if', 'I', 'want', 'to', 'pursue', 'higher', 'studies', 'abroad?', 'Can', 'I', 'do', 'engineering', 'if', 'I', 'have', 'not', 'taken', 'Mathematics', 'in', 'PUC?', 'What', 'is', 'the', 'strength', 'of', 'each', 'class?', 'What', 'is', 'the', 'ranking', 'of', 'REVA?', 'Does', 'REVA', 'conduct', 'online', 'or', 'offline', 'classes?', 'What', 'is', 'the', 'cutoff', 'for', 'PGCET,', 'COMEDK?', 'Does', 'REVA', 'charge', 'donation?', 'Is', 'REVA', 'University', 'a', 'private', 'or', 'deemed', 'University?', 'Is', 'REVA', 'University', 'autonomous?', 'What', 'facilities', 'are', 'available', 'in', 'REVA', 'University?', 'Does', 'REVA', 'provide', 'internships?', 'Does', 'REVA', 'organize', 'industrial', 'visits?', 'Does', 'REVA', 'University', 'have', 'international', 'collaborations', 'for', 'certifications', 'and', 'placements?', 'How', 'are', 'the', 'faculties?', 'Does', 'REVA', 'have', 'a', 'hostel?', 'Is', 'the', 'hostel', 'inside', 'the', 'campus?', 'The', 'final', 'degree', 'will', 'come', 'from', 'REVA', 'University', 'or', 'VTU?', 'Is', 'REVA', 'University', 'and', 'REVA', 'Institute', 'of', 'Technology', 'and', 'Management', 'same?', 'What', 'are', 'the', 'other', 'accreditations', 'and', 'recognitions', 'of', 'REVA', 'University?', 'Previous', 'placement', 'records', 'Library', 'Is', 'attendance', 'and', 'internals', 'considered', 'for', 'final', 'CGPA?', 'What', 'is', 'the', 'usual', 'academic', 'year?', 'Hostel', 'contact', 'number', 'How', 'many', 'students', 'reside', 'inside', 'the', 'campus', 'How', 'many', 'hostels', 'are', 'there', 'for', 'girls', 'and', 'boys', 'each', 'What', 'room', 'sharing', 'is', 'available?', 'Is', 'non-veg', 'served', 'in', 'the', 'mess', 'How', 'many', 'times', 'a', 'week', 'is', 'non-veg', 'served?', 'Is', 'the', 'gym', 'included', 'in', 'the', 'hostel', 'fees', 'How', 'much', 'a', 'student', 'needs', 'to', 'pay', 'for', 'the', 'gym', 'Is', 'there', 'provision', 'for', 'parents', 'to', 'stay', 'in', 'the', 'campus?', 'Cost', 'of', 'the', 'guest', 'house', 'for', 'parents', 'Warden', 'information', 'Security', 'of', 'the', 'child', 'in', 'the', 'hostel', 'Hostel', 'fees', 'can', 'be', 'paid', 'yearly', 'or', 'monthly?', 'If', 'the', 'student', 'is', 'not', 'well', 'what', 'is', 'the', 'course', 'of', 'action', 'taken?', 'In', 'case', 'a', 'student', 'gets', 'COVID', 'what', 'action', 'is', 'taken', 'by', 'the', 'hostel?', 'Testimonials', 'by', 'students,', 'alumni', 'and', 'parents', 'Can', 'I', 'book', 'mess', 'meals', 'for', 'my', 'family', 'when', 'they', 'come', 'to', 'stay', 'in', 'Atithi?', 'The', 'hostel', 'fees', 'are', 'for', 'a', 'year', 'or', 'academic', 'year?', 'Is', 'hostel', 'fee', 'inclusive', 'of', 'laundry', 'and', 'mess', 'charges?', 'I', 'am', 'unable', 'to', 'connect', 'to', 'hostel', 'department.', 'Contact', 'info', 'of', 'REVA', 'University', 'Life', '@', 'REVA', 'includes', 'videos.', 'Virtual', 'Hostel', 'Tour', 'Is', 'there', 'a', 'food', 'court', 'in', 'the', 'campus?', 'When', 'I', 'need', 'to', 'pay', 'my', 'monthly', 'installment', 'Payment', 'for', 'single', 'sharing', 'Payment', 'for', 'three', 'sharing', 'Payment', 'for', 'four', 'sharing', 'Is', 'laundry', 'facility', 'available?', 'How', 'many', 'times', 'a', 'week', 'can', 'laundry', 'be', 'availed?', 'What', 'are', 'the', 'laundry', 'timings?', 'How', 'much', 'do', 'I', 'need', 'to', 'pay', 'for', 'the', 'laundry', 'bag?', 'How', 'do', 'I', 'request', 'for', 'a', 'change', 'in', 'the', 'menu?', 'How', 'many', 'students', 'reside', 'inside', 'the', 'campus?', 'How', 'many', 'hostels', 'are', 'there', 'for', 'girls', 'and', 'boys', 'each?', 'Is', 'non-veg', 'served', 'in', 'the', 'mess?', 'Is', 'the', 'gym', 'included', 'in', 'the', 'hostel', 'fees?', 'How', 'much', 'a', 'student', 'needs', 'to', 'pay', 'for', 'the', 'gym?', 'Where', 'do', 'I', 'file', 'a', 'complaint', 'against', 'any', 'services', 'in', 'the', 'hostel?', 'What', 'is', 'the', 'application', 'I', 'need', 'to', 'fill', 'to', 'update', 'my', 'parents', 'number?', 'What', 'is', 'the', 'application', 'I', 'need', 'to', 'fill', 'to', 'update', 'my', 'new', 'number?', 'How', 'to', 'check', 'how', 'many', 'meals', 'I', 'came', 'for', 'without', 'booking?', 'How', 'to', 'check', 'how', 'many', 'meals', 'I', 'didnt', 'go', 'for', 'after', 'booking?', 'How', 'to', 'check', 'my', 'deposit', 'after', 'deduction', 'towards', 'mess', 'fines?', 'Is', 'it', 'compulsory', 'to', 'book', 'your', 'meals?', 'What', 'are', 'the', 'timings', 'to', 'book', 'your', 'meals', 'on', 'Spacebasic', 'App?', 'How', 'do', 'I', 'need', 'to', 'avail', 'for', 'the', 'Wi-Fi', 'facility?', 'How', 'often', 'is', 'the', 'grand', 'dinner?', 'Which', 'mobile', 'service', 'provider', 'is', 'recommended', 'inside', 'REVA', 'campus?', 'What', 'is', 'the', 'Maintenance', 'Arrangements', 'for', 'Hostel', 'Rooms?', 'What', 'happens', 'if', 'I', 'forget', 'to', 'book', 'the', 'meals?', 'What', 'if', 'I', 'book', 'my', 'meals', 'and', 'do', 'not', 'turn', 'up?', 'What', 'if', 'I', 'want', 'to', 'book', 'meals', 'for', 'my', 'parents?', 'Can', 'I', 'book', 'a', 'meal', 'for', 'a', 'friend', 'who', 'is', 'not', 'staying', 'in', 'the', 'hostel?', 'Can', 'I', 'cancel', 'a', 'meal', 'once', 'I', 'have', 'booked?', 'Is', 'it', 'possible', 'to', 'book', 'a', 'meal', 'from', 'my', 'friends', 'mobile?', 'How', 'do', 'I', 'book', 'if', 'I', 'dont', 'have', 'a', 'smart', 'phone', 'or', 'a', 'mobile?', 'What', 'if', 'I', 'lose', 'my', 'mobile', 'phone?', 'What', 'if', 'the', 'app', 'is', 'not', 'working?', 'What', 'do', 'I', 'do', 'if', 'I', 'am', 'sick?', 'Is', 'there', 'a', 'meal', 'booking', 'option', 'for', 'veg', 'or', 'non-veg?', 'What', 'if', 'I', 'give', 'a', 'friend', 'to', 'get', 'into', 'the', 'mess', 'with', 'my', 'QR', 'code?', 'What', 'happens', 'when', 'I', 'return', 'early', 'from', 'my', 'leave,', 'how', 'do', 'I', 'make', 'my', 'booking?', 'What', 'happens', 'if', 'the', 'QR', 'code', 'has', 'expired?', 'Could', 'you', 'please', 'provide', 'the', 'girls', 'hostel', 'warden', 'information?', 'Could', 'you', 'please', 'provide', 'the', 'boys', 'hostel', 'warden', 'information?', 'Hostel', 'versus', 'PG.', 'What', 'application', 'I', 'need', 'to', 'fill', 'for', 'Wi-Fi', 'access?', 'Does', 'SpaceBasic', 'work', 'on', 'both', 'Android', 'and', 'IPhone?', 'Are', 'we', 'allowed', 'to', 'pay', 'yearly', 'fees', 'in', 'installment?', 'Are', 'the', 'hostels', 'Air-conditioned?', 'I', 'am', 'facing', 'login', 'issues.', 'Why', 'am', 'I', 'unable', 'to', 'download', 'the', 'fee', 'receipts?', 'Are', 'there', 'any', 'concessions', 'on', 'fees?', 'What', 'are', 'the', 'academic', 'fee', 'structures?', 'What', 'are', 'the', 'modes', 'of', 'payment?', 'Im', 'unable', 'to', 'pay', 'my', 'Course', 'fees.', 'Im', 'unable', 'to', 'pay', 'exam', 'fees.', 'Im', 'unable', 'to', 'pay', 'academic', 'fees.', 'Im', 'unable', 'to', 'pay', 'hostel', 'fees.', 'Why', 'is', 'it', 'showing', 'link', 'is', 'invalid', 'when', 'I', 'click', 'on', 'the', 'link?', 'Fee', 'structure', 'mismatch', 'What', 'are', 'the', 'examination', 'fees', 'for', 'a', 'particular', 'semester?', 'I', 'have', 'applied', 'for', 'KEA/COMEDK,', 'the', 'concession', 'amount', 'is', 'not', 'being', 'reflected', 'in', 'ERP,', 'is', 'my', 'scholarship', 'amount', 'considered?', 'What', 'is', 'the', 'Coursera', 'fee', 'detail', 'and', 'can', 'I', 'get', 'installment?', 'How', 'can', 'I', 'convert', 'hostel', 'fees', 'to', 'academic', 'fees?', 'How', 'can', 'I', 'know', 'the', 'scholarship', 'details?', 'Can', 'I', 'pay', 'the', 'fees', 'directly', 'in', 'Karnataka', 'bank?', 'Should', 'I', 'pay', 'my', 'exam', 'fees', 'in', 'finance', 'department', 'or', 'in', 'Karnataka', 'bank?', 'Can', 'I', 'pay', 'my', 'academic', 'fees', 'in', 'installment?', 'What', 'is', 'the', 'application', 'fee', 'and', 'how', 'can', 'I', 'pay', 'my', 'application', 'fee?', 'Is', 'there', 'an', 'Anti-Ragging', 'Committee?', 'Is', 'there', 'any', 'Dress', 'Code', 'or', 'Uniform?', 'Is', 'there', 'a', 'counselling', 'centre', 'at', 'REVA?', 'Do', 'you', 'offer', 'any', 'Skill', 'development', 'program?', 'Do', 'you', 'have', 'any', 'specific', 'training', 'given', 'for', 'placements?', 'Do', 'you', 'have', 'Placement', 'facility?', 'Is', 'the', 'campus', 'Wi-fi', 'enabled?', 'How', 'do', 'I', 'reach', 'the', 'University?', 'Kindly', 'share', 'the', 'location', 'details.', 'Can', 'I', 'visit', 'the', 'University?', 'What', 'are', 'the', 'Working', 'hours', 'of', 'the', 'University?', 'Administration', 'Office', 'hours', 'Does', 'the', 'University', 'have', 'any', 'sports', 'facilities?', 'Are', 'medical', 'services', 'available', 'in', 'campus?', 'What', 'is', 'the', 'procedure', 'to', 'avail', 'Transport', 'facility?', 'Is', 'there', 'a', 'food', 'court', 'in', 'campus?', 'Does', 'REVA', 'University', 'offer', 'any', 'Certificate', 'program', 'along', 'with', 'regular', 'courses?', 'What', 'assessment', 'pattern', 'is', 'followed', 'at', 'REVA', 'University?', 'Do', 'I', 'get', 'a', 'laptop', 'on', 'joining', 'REVA?', 'Do', 'you', 'offer', 'any', 'Scholarship?', 'Can', 'I', 'get', 'a', 'refund', 'if', 'I', 'cancel', 'my', 'admission?', 'Do', 'you', 'have', 'provision', 'for', 'Differently', 'Abled', 'students?', 'What', 'is', 'the', 'level', 'of', 'attendance', 'to', 'be', 'maintained', 'for', 'eligibility', 'to', 'take', 'exams', 'at', 'REVA?', 'How', 'to', 'View', 'attendance', 'in', 'ERP', 'application?', 'How', 'to', 'download', 'Fee', 'Receipt', 'in', 'ERP', 'application?', 'How', 'to', 'verify', 'student', 'ERP', 'login', 'credential?', 'What', 'are', 'the', 'options', 'for', 'the', 'Fee', 'payment', 'process', 'through', 'Online', '/', 'ERP', '/', 'RTGS', '/', 'NEFT', 'mode?', 'What', 'is', 'the', 'procedure', 'to', 'apply', 'for', 'Scholarship?', 'Why', 'is', 'ERP', 'Portal', 'not', 'working', 'and', 'showing', '404', 'Error?', 'Can', 'we', 'verify', 'our', 'fee', 'structure?', 'I', 'had', 'done', 'my', 'branch', 'change', 'but', 'still', 'in', 'ERP', 'it', 'is', 'reflecting', 'in', 'the', 'old', 'branch', 'only', 'in', 'ERP.', 'I', 'have', 'paid', 'the', 'Coursera', 'fee', 'and', 'academic', 'fee', 'but', 'still', 'my', 'results', 'have', 'not', 'been', 'announced?', 'I', 'am', 'trying', 'to', 'pay', 'my', 'application', 'fee', 'on', 'the', 'website,but', 'error', 'message', 'is', 'reflecting.', 'I', 'can', 'login', 'to', 'ERP', 'portal', 'and', 'JUNO', 'application', 'but', 'it', 'is', 'reflecting', 'as', 'Applicant', 'student.', 'SRN', 'NO', 'is', 'still', 'not', 'showing', 'in', 'the', 'ERP', 'How', 'to', 'upload', 'my', 'assignment', 'in', 'ERP', 'application?', 'How', 'to', 'update', 'the', 'profile?', 'How', 'to', 'verify', 'student', 'ERP', 'login', 'credential?', 'How', 'to', 'upload', 'the', 'test', 'in', 'Coursera?', 'I', 'am', 'unable', 'to', 'login', 'to', 'Coursera?', 'Why', 'is', 'the', 'dashboard', 'showing', 'it', 'as', 'my', 'previous', 'semester?', 'Students', 'are', 'not', 'mapped', 'to', 'a', 'subject.', 'Attendance', 'issues.', 'Unable', 'to', 'view', 'my', 'academic', 'fees', 'paid', 'receipt.', 'Unable', 'to', 'view', 'Coursera', 'installments', 'paid.', 'Why', 'are', 'the', 'hostel', 'fees', 'I', 'paid', 'not', 'reflecting', 'in', 'ERP?', 'Why', 'are', 'the', 'exam', 'fees', 'I', 'paid', 'not', 'reflecting', 'in', 'ERP?', 'Academic', 'calendar', 'is', 'not', 'showing', 'holidays,', 'exams', 'and', 'events.', 'Unable', 'to', 'view', 'Content', 'from', 'Syllabus.', 'Courses', 'displayed', 'is', 'only', 'of', 'previous', 'semester.', 'Why', 'is', 'my', 'attendance', 'not', 'displayed', 'of', 'the', 'current', 'semester?', 'Why', 'is', 'the', 'placement', 'I', 'got', 'not', 'updated', 'in', 'ERP?', 'Mentors', 'details', 'are', 'not', 'displayed.', 'Timetable', 'is', 'not', 'displayed.', 'Hostel', 'details', 'are', 'not', 'displayed.', 'Why', 'is', 'it', 'showing', 'I', 'am', 'not', 'a', 'member', 'of', 'the', 'library', 'even', 'though', 'I', 'issued', 'books', 'in', 'the', 'past?', 'Fathers', 'or', 'mothers', 'name', 'has', 'a', 'spelling', 'mistake', 'What', 'is', 'the', 'general', 'schedule', 'of', 'academic', 'year?', 'What', 'are', 'the', 'class', 'timings?', 'How', 'many', 'working', 'days', 'in', 'a', 'week/month/year?', 'What', 'is', 'the', 'grading', 'system', 'followed?', 'What', 'is', 'the', 'minimum', 'pass', 'grade', 'in', 'any', 'course?', 'Is', 'there', 'any', 'dress', 'code', 'to', 'be', 'followed?', 'What', 'is', 'the', 'ratio', 'of', 'internal', 'and', 'external', 'examination', 'marks?', 'Is', 'there', 'any', 'marks', 'for', 'assignments?', 'How', 'many', 'internal', 'exams', 'will', 'be', 'conducted', 'in', 'a', 'semester?', 'How', 'many', 'open', 'elective', 'courses', 'are', 'offered', 'in', 'a', 'semester', 'in', 'the', 'program?', 'What', 'is', 'the', 'question', 'paper', 'format?', 'What', 'is', 'the', 'attendance', 'percentage', 'that', 'I', 'have', 'to', 'maintain', 'per', 'semester?', 'Is', 'there', 'any', 'tie', 'up', 'with', 'the', 'international', 'universities?', 'How', 'many', 'projects', 'I', 'will', 'have', 'to', 'do', 'in', 'final', 'semester/year?', 'Is', 'internship', 'mandatory', 'in', 'final', 'semester/year?', 'Will', 'I', 'have', 'opportunity', 'to', 'do', 'my', 'internship', 'within', 'the', 'university?', 'How', 'many', 'certification', 'courses', 'that', 'the', 'university', 'offers?', 'How', 'many', 'marks', 'are', 'assigned', 'for', 'project?', 'Do', 'project', 'have', 'internal', 'and', 'external', 'exams?', 'Does', 'REVA', 'University', 'conduct', 'entrance', 'test', 'for', 'PG', 'program?', 'Do', 'you', 'provide', 'any', 'merit', 'scholarship?', 'Do', 'you', 'have', 'university', 'fest?', 'Do', 'you', 'have', 'NCC', 'and', 'NSS?', 'What', 'is', 'the', 'average', 'salary', 'offered', 'in', 'the', 'placement?', 'What', 'is', 'the', 'highest', 'package', 'offered?', 'Do', 'you', 'provide', 'skill', 'development', 'training?', 'Do', 'you', 'have', 'health', 'center?', 'I', 'am', 'a', 'sports', 'person', 'and', 'have', 'participated', 'at', 'national', 'level', 'competition.', 'What', 'type', 'of', 'scholarship', 'I', 'will', 'get', 'from', 'university?', 'Do', 'you', 'have', 'choice', 'based', 'credit', 'system', 'in', 'all', 'the', 'programs?', 'If', 'my', 'sibling', 'wants', 'to', 'Join', 'REVA,', 'will', 'he/she', 'get', 'any', 'concession', 'in', 'the', 'fee?', 'Do', 'you', 'have', 'industry', 'supported', 'programs?', 'Can', 'I', 'get', 'loan', 'for', 'my', 'studies?', 'When', 'will', 'I', 'get', 'my', 'hostel', 'accommodation?', 'Can', 'I', 'transfer', 'from', 'one', 'program', 'to', 'another', 'program?', 'Is', 'this', 'a', 'ragging', 'free', 'campus?', 'Is', 'REVA', 'University', 'approved', 'by', 'UGC', 'or', 'AICTE?', 'What', 'is', 'the', 'cut', 'off', 'percentage', 'in', 'the', 'eligibility', 'qualification', 'to', 'join', 'UG/PG', 'program?', 'Can', 'I', 'get', 'seat', 'without', 'writing', 'KCET,', 'COMEDK?', 'How', 'can', 'I', 'do', 'semester', 'abroad', 'program', 'in', 'the', 'foreign', 'university', 'that', 'is', 'tied', 'up', 'with', 'REVA', 'University?', 'Will', 'I', 'get', 'scholarship', 'or', 'concession', 'if', 'I', 'study', 'in', 'university', 'that', 'is', 'tied', 'up', 'with', 'REVA', 'University?', 'Can', 'I', 'change', 'my', 'mentor', 'project', 'guide?', 'How', 'many', 'visiting', 'faculty', 'from', 'foreign', 'university', 'delivering', 'courses?', 'Will', 'you', 'allow', 'credit', 'transfer?', 'Do', 'you', 'provide', 'training', 'for', 'competitive', 'exams', 'such', 'as', 'GRE,', 'TOEFL,', 'CAT,', 'GATE,', 'IAS', 'etc.?', 'How', 'many', 'site/industrial', 'visits', 'are', 'organized', 'in', 'a', 'semester?', 'Will', 'I', 'get', 'any', 'financial', 'assistance', 'for', 'attending', 'conference', 'for', 'presenting', 'the', 'paper?', 'I', 'want', 'to', 'withdraw', 'my', 'admission,', 'how', 'to', 'get', 'refund?', 'Is', 'there', 'any', 'book', 'bank', 'facility?', 'What', 'are', 'the', 'exam', 'dates/time', 'table', 'for', 'a', 'particular', 'semester?', 'What', 'are', 'the', 'extracurricular', 'activities', 'organized', 'for', 'students?', 'What', 'are', 'the', 'accreditations', 'and', 'recognitions', 'of', 'REVA', 'University?', 'When', 'will', 'the', 'admission', 'applications', 'be', 'issued?', 'What', 'are', 'the', 'application', 'timeline', 'for', 'the', 'admission?', 'Is', 'NATA', 'compulsory', 'for', 'architecture', 'students?', 'What', 'are', 'the', 'ground', 'on', 'which', 'the', 'application', 'can', 'be', 'rejected?', 'Will', 'I', 'get', 'refund', 'of', 'the', 'application', 'fee?', 'What', 'is', 'the', 'application', 'fee?', 'What', 'is', 'the', 'REVA', 'university', 'CET', 'code?', 'What', 'is', 'the', 'REVA', 'university', 'COMEDK', 'code?', 'What', 'is', 'REVA', 'university', 'PGCET', 'code?', 'What', 'are', 'the', 'different', 'modes', 'of', 'payment', 'for', 'admission?', 'What', 'are', 'the', 'documents', 'required', 'for', 'UG', 'admission?', 'What', 'are', 'the', 'documents', 'required', 'to', 'fill', 'the', 'application', 'form', 'for', 'the', 'undergraduate', 'program?', 'Can', 'I', 'apply', 'for', 'more', 'than', 'one', 'program?', 'Do', 'you', 'have', 'provision', 'for', 'differently', 'abled', 'students?', 'Can', 'I', 'get', 'refund', 'if', 'I', 'cancel', 'my', 'admission?', 'Are', 'laptops', 'mandatory?', 'Do', 'I', 'get', 'laptops', 'on', 'joining', 'REVA?', 'Do', 'you', 'have', 'international', 'students', 'tour', 'from', 'REVA', 'University?', 'Are', 'special', 'classes', 'arranged', 'at', 'REVA?', 'What', 'are', 'the', 'student', 'housing', 'facilities', 'available?', 'When', 'I', 'approach', 'the', 'University', 'for', 'Student', 'Housing', 'Admission?', 'Do', 'you', 'have', 'any', 'specific', 'training', 'given', 'for', 'placement?', 'Do', 'you', 'offer', 'skill', 'development', 'program?', 'Is', 'there', 'a', 'counselling', 'Centre', 'at', 'REVA?', 'How', 'can', 'a', 'student', 'apply', '(application)', 'for', 'Semester', 'End', 'Examination?', 'Where', 'does', 'a', 'student', 'pay', 'Semester', 'End', 'Examination', 'Fee?', 'How', 'can', 'results', 'be', 'viewed?', 'What', 'is', 'process', 'for', 'Photocopy', 'of', 'Answer', 'Scripts?', 'What', 'is', 'the', 'process', 'for', 'Revaluation?', 'What', 'is', 'process', 'for', 'Name', 'Correction', 'in', 'Grade', 'Card?', 'How', 'can', 'students', 'apply', 'for', 'Duplicate', 'Degree', 'Certificate?', 'How', 'can', 'Duplicate', 'Grade', 'Card', 'be', 'applied', 'for?', 'What', 'is', 'the', 'process', 'to', 'apply', 'for', 'Transcript?', 'How', 'can', 'students', 'apply', 'for', 'Consolidated', 'Grade', 'Card?', 'What', 'is', 'the', 'process', 'to', 'apply', 'for', 'Provisional', 'Degree', 'Certificate?', 'Where', 'can', 'grade', 'cards', 'be', 'collected', 'from?', 'Where', 'can', 'I', 'collect', 'Degree', 'certificate', 'from?', 'Where', 'can', 'a', 'student', 'collect', 'Provisional', 'Degree', 'certificate', 'from?', 'Where', 'can', 'a', 'student', 'collect', 'Transcript?', 'Where', 'can', 'students', 'find', 'the', 'Semester', 'End', 'Examination', '(SEE)', 'time', 'table?', 'Where', 'can', 'a', 'student', 'find', 'the', 'hall', 'ticket?', 'How', 'do', 'students', 'collect', 'the', 'hall', 'tickets?', 'When', 'is', 'the', 'even', 'semester', 'end', 'examination', 'conducted?', 'When', 'is', 'the', 'odd', 'semester', 'end', 'examination', 'conducted?', 'How', 'to', 'convert', 'CGPA', 'to', 'Percentage?', 'How', 'to', 'verify', '/', 'validate', 'grade', 'card', '&', 'degree', 'certificate?', 'How', 'do', 'students', 'understand', 'the', 'Grades', 'and', 'their', 'classification?', 'What', 'is', 'CGPA', 'and', 'how', 'is', 'it', 'calculated?', 'What', 'is', 'SGPA', 'and', 'how', 'is', 'it', 'calculated?', 'What', 'is', 'Grade', 'Point?', 'What', 'is', 'the', 'culture', 'of', 'the', 'company?', 'What', 'is', 'the', 'selection', 'criterion', 'of', 'REVA', 'University?', 'When', 'is', 'the', 'Academic', 'Year', 'starts?', 'How', 'does', 'one', 'fill', 'an', 'online', 'Application?', 'What', 'are', 'the', 'Employee', 'Benefits?', 'Whom', 'to', 'contact', 'while', 'applying?', 'What', 'is', 'the', 'University', 'Timings?', 'What', 'is', 'the', 'dress', 'code', 'of', 'University?', 'Do', 'you', 'have', 'any', 'accommodation', 'facility', 'for', 'the', 'staff?', 'Do', 'have', 'any', 'Transportation', 'facility', 'for', 'the', 'staff?', 'Do', 'you', 'have', 'the', 'any', 'medical', 'Insurance', 'for', 'the', 'staff?', 'Do', 'have', 'any', 'medical', 'facility', 'in', 'the', 'campus?', 'Do', 'have', 'any', 'grocery', 'shop', 'facility', 'in', 'the', 'campus?', 'Do', 'have', 'any', 'food', 'joints', 'in', 'the', 'campus?', 'Do', 'you', 'have', 'any', 'CrÌ¬che', 'facility.', 'Do', 'you', 'have', 'any', 'opportunity', 'for', 'higher', 'education', 'assistance', 'program?', 'What', 'is', 'the', 'leave', 'policy', 'of', 'the', 'company?', 'What', 'date', 'will', 'the', 'salary', 'get', 'credited?', 'To', 'which', 'bank', 'account', 'does', 'the', 'salary', 'will', 'credited?', 'What', 'is', 'the', 'notice', 'period', 'of', 'your', 'Organization?', 'Do', 'you', 'have', 'any', 'statutory', 'compliance?', 'When', 'is', 'the', 'Salary', 'increment', 'cycle?', 'Whom', 'to', 'approach', 'for', 'any', 'kind', 'of', 'grievances?', 'Will', 'tax', 'be', 'deducted', 'while', 'processing', 'my', 'monthly', 'salary?', 'Is', 'any', 'employment', 'bond', 'is', 'taken', 'during', 'joining?', 'How', 'to', 'Apply', 'Leave', 'online?', 'How', 'do', 'you', 'reset', 'your', 'password', 'in', 'COSEC', 'app?', 'Whom', 'to', 'contact', 'for', 'the', 'official', 'email', 'id?', 'When', 'are', 'we', 'eligible', 'for', 'Earned', 'Leave?', 'Clubbing', 'of', 'Leave', 'with', 'public', 'holidays.', 'Dress', 'Code', 'Can', 'we', 'take', 'Sabbatical', 'Leave?.', 'How', 'many', 'days', 'of', 'Maternity', 'leave/Matrimonial', 'as', 'per', 'the', 'leave', 'policy.', 'Do', 'we', 'have', 'Flexibility', 'of', 'Timings.', 'How', 'many', 'late', 'ins', 'is', 'allowed', 'in', 'a', 'month?', 'What', 'do', 'we', 'do', 'if', 'we', 'miss', 'swipe?', 'What', 'to', 'do', 'if', 'swiping', 'is', 'not', 'reflecting', 'in', 'the', 'Cosec', 'app?', 'Whom', 'to', 'contact', 'if', 'any', 'issues', 'with', 'PF', 'related?', 'When', 'do', 'we', 'get', 'our', 'health', 'card?', 'When', 'can', 'we', 'start', 'using', 'the', 'health', 'card.', 'Is', 'vehicles', 'are', 'allowed', 'to', 'park', 'inside', 'the', 'campus?', 'Do', 'you', 'have', 'accommodation', 'facility?', 'Whom', 'to', 'Contact', 'for', 'Staff', 'quarters', '&', 'Hostel?', 'Do', 'we', 'have', 'Transportation', 'facility', 'for', 'employees?', 'Whom', 'to', 'contact', 'for', 'Transportation?', 'Can', 'LIC/VPS/Sodexo', 'meals', 'card', 'deduction', 'can', 'do', 'done', 'through', 'the', 'Salary?', 'Whom', 'to', 'contact', 'any', 'grievances?', 'Whom', 'to', 'contact', 'for', 'TAX', 'deductions', 'queries?', 'How', 'do', 'we', 'do', 'TAX', 'declaration?', 'Whom', 'to', 'contact', 'for', 'Form', '16?', 'Do', 'you', 'offer', 'B.TECH.', 'IN', 'COMPUTER', 'SCIENCE', 'AND', 'INFORMATION', 'TECHNOLOGY?', 'Do', 'you', 'offer', 'B.TECH.', 'IN', 'COMPUTER', 'SCIENCE', 'AND', 'SYSTEMS', 'ENGINEERING?', 'Do', 'you', 'offer', 'B.TECH.', 'IN', 'INFORMATION', 'SCIENCE', 'AND', 'ENGINEERING?', 'Do', 'you', 'offer', 'B.TECH.', 'IN', 'COMPUTER', 'ENGINEERING?', 'Do', 'you', 'offer', 'ARTIFICIAL', 'INTELLIGENCE', 'AND', 'MACHINE', 'LEARNING?', 'Do', 'you', 'offer', 'B.TECH.', 'IN', 'COMPUTER', 'SCIENCE', 'AND', 'ENGINEERING?', 'Do', 'you', 'offer', 'B.TEC', 'IN', 'ARTIFICIAL', 'INTEELIGENCE', 'AND', 'DATA', 'SCIENCE?', 'Do', 'you', 'offer', 'B.TECH.', 'IN', 'ELECTRONICS', 'AND', 'COMMUNICATION', 'ENGINEERING?', 'Do', 'you', 'offer', 'B.TECH.', 'IN', 'ELECTRONICS', 'AND', 'COMPUTER', 'ENGINEERING?', 'Do', 'you', 'offer', 'B.TECH.', 'IN', 'ROBOTICS', 'AND', 'AUTOMATION?', 'Do', 'you', 'offer', 'B.TECH.', 'IN', 'CIVIL', 'ENGINEERING?', 'Do', 'you', 'offer', 'B.TECH.', 'IN', 'MECHANICAL', 'ENGINEERING?', 'Do', 'you', 'offer', 'B.TECH.', 'IN', 'MECHATRONICS', 'ENGINEERING?', 'Do', 'you', 'offer', 'B.TECH.', 'IN', 'ELECTRICAL', 'AND', 'ELECTRONICS', 'ENGINEERING?', 'Do', 'you', 'offer', 'B.TECH.', 'IN', 'ELECTRICAL', 'AND', 'COMPUTER', 'ENGINEERING?', 'Do', 'you', 'offer', 'B.TECH.', 'IN', 'BIO', 'ELECTRONICS', 'ENGINEERING?', 'Do', 'you', 'offer', 'B.B.A.', '(INDUSTRY', 'INTEGRATED)?', 'Do', 'you', 'offer', 'BBA', '-', 'HONS', '(BANKING', 'AND', 'FINANCE)?', 'Do', 'you', 'offer', 'BBA', '-', 'HONS', '(BUSINESS', 'ANALYTICS)?', 'Do', 'you', 'offer', 'BBA', '-', 'HONS', '(HEALTH', 'CARE', 'MANAGEMENT)?', 'Do', 'you', 'offer', 'BBA', '-', 'HONS', '(MARKETING)?', 'Do', 'you', 'offer', 'BBA', '-', 'HONS', '(STRATEGY', 'AND', 'LEADERSHIP)?', 'Do', 'you', 'offer', 'BBA', '-', 'HONS', '(TALENT', 'MANAGEMENT)?', 'Do', 'you', 'offer', 'B.B.A.', '-', 'HONS', '(NEW', 'VENTURE', 'AND', 'FAMILY', 'BUSINESS', 'MANAGEMENT)?', 'Do', 'you', 'offer', 'B.COM.', '(INDUSTRY', 'INTEGRATED)?', 'Do', 'you', 'offer', 'B.COM', '-', 'HONS', '(ACCOUNTING', 'AND', 'STATISTICS)?', 'Do', 'you', 'offer', 'B.COM', '-', 'HONS', '(ACCOUNTING', 'AND', 'TAXATION)?', 'Do', 'you', 'offer', 'B.COM', '-', 'HONS', '(BANKING', 'AND', 'FINANCE)?', 'Do', 'you', 'offer', 'B.COM', '-', 'HONS', '(ECONOMICS', 'AND', 'FINANCE)?', 'Do', 'you', 'offer', 'B.C.A.?', 'Do', 'you', 'offer', 'B.SC.', '(HONOURS)', 'CLOUD', 'COMPUTING', 'AND', 'BIG', 'DATA?', 'Do', 'you', 'offer', 'B.SC.', '(CYBER', 'SECURITY)?', 'Do', 'you', 'offer', 'B.SC.', '(MULTIMEDIA', 'AND', 'ANIMATION)?', 'Do', 'you', 'offer', 'B.SC.', '-', 'MICROBIOLOGY,', 'CHEMISTRY', 'AND', 'GENETICS?', 'Do', 'you', 'offer', 'B.SC.', 'IN', 'BIOINFORMATICS', 'BIOLOGY,', 'MATHS,', 'COMPUTER', 'SCIENCE?', 'Do', 'you', 'offer', 'B.SC.', 'IN', 'BIOTECHNOLOGY,', 'BIOCHEMISTRTY,', 'GENETICS?', 'Do', 'you', 'offer', 'B.SC.', 'IN', 'MATHS,', 'STATISTICS,', 'COMPUTER', 'SCIENCE?', 'Do', 'you', 'offer', 'B.SC.', 'IN', 'MEDICAL', 'LAB', 'TECHNOLOGY?', 'Do', 'you', 'offer', 'B.SC.', 'IN', 'MEDICAL', 'RADIOLOGY', 'AND', 'DIAGNOSTIC', 'IMAGING?', 'Do', 'you', 'offer', 'B.SC.', 'IN', 'NUTRITION', 'AND', 'DIETETICS?', 'Do', 'you', 'offer', 'B.SC.', 'IN', 'PHYSICS,', 'CHEMISTRTY,', 'MATHS?', 'Do', 'you', 'offer', 'B.SC.', 'IN', 'PHYSICS,', 'MATHS,', 'COMPUTER', 'SCIENCE?', 'Do', 'you', 'offer', 'B.A.', '-', 'LL.B.', '(HONOURS)?', 'Do', 'you', 'offer', 'B.B.A.', '-', 'LL.B.', '(HONOURS)?', 'Do', 'you', 'offer', 'B.ARCH?', 'Do', 'you', 'offer', 'B.A.', '-', 'JOURNALISM,', 'ENGLISH,', 'PSYCHOLOGY?', 'Do', 'you', 'offer', 'B.A.', '-', 'POLITICAL', 'SCIENCE,', 'ECONOMICS', 'AND', 'JOURNALISM?', 'Do', 'you', 'offer', 'B.A.', '-', 'TOURISM,', 'HISTORY', 'AND', 'JOURNALISM?', 'Do', 'you', 'offer', 'BA', '-', 'HONS', '(ENGLISH)?', 'Do', 'you', 'offer', 'BA', '-', 'JOURNALISM', 'AND', 'MASS', 'COMMUNICATION?', 'Do', 'you', 'offer', 'B.A.', '-', 'PERFORMING', 'ARTS,', 'ENGLISH', 'PSYCHOLOGY?', 'Do', 'you', 'offer', 'M.TECH.', '-', 'ARTIFICIAL', 'INTELLIGENCE?', 'Do', 'you', 'offer', 'M.TECH.', '-', 'CYBERSECURITY?', 'Do', 'you', 'offer', 'M.TECH.', '-', 'COMPUTER', 'SCIENCE', 'ENGINEERING', '(FULL', 'TIME)?', 'Do', 'you', 'offer', 'M.TECH.', '-', 'COMPUTER', 'SCIENCE', 'ENGINEERING-(PART', 'TIME)?', 'Do', 'you', 'offer', 'M.TECH.', '-', 'COMPUTER', 'AIDED', 'STRUCTURAL', 'ENGINEERING', '(CASE)?', 'Do', 'you', 'offer', 'M.TECH.', '-', 'CONTRUCTION', 'TECHNOLOGY', 'AND', 'MANAGEMENT', '(CTM)?', 'Do', 'you', 'offer', 'M.TECH.', '-', 'TRANSPORTATION', 'ENGINEERING', 'AND', 'MANAGEMENT', '(TEM)?', 'Do', 'you', 'offer', 'M.TECH.', '-', 'VLSI', 'AND', 'EMBEDED', 'SYSTEMS', '(FULL', 'TIME)?', 'Do', 'you', 'offer', 'M.TECH.', '-', 'VLSI', 'AND', 'EMBEDED', 'SYSTEMS', '(PART', 'TIME)?', 'Do', 'you', 'offer', 'M.TECH.', '-', 'MACHINE', 'DESIGN', '(MD)?', 'Do', 'you', 'offer', 'M.TECH.', '-', 'POWER', 'ENERGY', 'SYSTEMS', '(PS)?', 'Do', 'you', 'offer', 'M.TECH.', '-', 'DIGITAL', 'COMMUNICATIONS', 'AND', 'NETWORKING', '(DCN)?', 'Do', 'you', 'offer', 'M.SC.', '-', 'BIOTECHNOLOGY?', 'Do', 'you', 'offer', 'M.SC.', 'IN', 'BIO', '-', 'CHEMISTRY?', 'Do', 'you', 'offer', 'M.SC.', 'IN', 'BIOINFORMATICS?', 'Do', 'you', 'offer', 'M.SC.', 'IN', 'CHEMISTRY?', 'Do', 'you', 'offer', 'M.SC.', 'IN', 'MATHEMATICS?', 'Do', 'you', 'offer', 'M.SC.', 'IN', 'MICROBIAL', 'TECHNOLOGY?', 'Do', 'you', 'offer', 'M.SC.', 'IN', 'PHYSICS?', 'Do', 'you', 'offer', 'L.L.M.', '(', 'CRIMINAL', 'LAW)?', 'Do', 'you', 'offer', 'L.L.M.', '(BUSINESS', 'AND', 'CORPORATE', 'LAW)?', 'Do', 'you', 'offer', 'M.A.', 'IN', 'ENGLISH?', 'Do', 'you', 'offer', 'M.A.', 'IN', 'JOURNALISM', 'AND', 'MASS', 'COMMUNICATION?', 'Do', 'you', 'offer', 'M.SC.', 'IN', 'PSYCHOLOGY?', 'Do', 'you', 'offer', 'M.COM.?', 'Do', 'you', 'offer', 'M.B.A.?', 'Do', 'you', 'offer', 'M.C.A.', '-', 'REGULAR?', 'Do', 'you', 'offer', 'M.SC.', 'IN', 'DATA', 'SCIENCE?', 'Do', 'you', 'offer', 'MPA', '-', 'BHARATNATYAM?', 'Do', 'you', 'offer', 'MPA', '-', 'KATHAK?', 'Do', 'you', 'offer', 'MPA', '-', 'KUCHIPUDI?', 'Do', 'you', 'offer', 'MPA', '-', 'MOHINIYATTAM?', 'Do', 'you', 'offer', 'MPA', '-', 'ODISSI?', 'Do', 'you', 'offer', 'CERTIFICATE', 'IN', 'BHARATNATYAM?', 'Do', 'you', 'offer', 'CERTIFICATE', 'IN', 'CLINICAL', 'EMBRYOLOGY', 'AND', 'ASSISTED', 'REPRODUCTIVE', 'TECHNOLOGY?', 'Do', 'you', 'offer', 'CERTIFICATE', 'IN', 'KATHAK?', 'Do', 'you', 'offer', 'CERTIFICATE', 'IN', 'KUCHIPUDI?', 'Do', 'you', 'offer', 'CERTIFICATE', 'IN', 'MOHINIYATTAM?', 'Do', 'you', 'offer', 'CERTIFICATE', 'IN', 'ODISSI?', 'Do', 'you', 'offer', 'DIPLOMA', 'IN', 'BHARATNATYAM?', 'Do', 'you', 'offer', 'DIPLOMA', 'IN', 'CARNATIC', 'VOCAL?', 'Do', 'you', 'offer', 'DIPLOMA', 'IN', 'CLINICAL', 'EMBRYOLOGY', 'AND', 'ASSISTED', 'REPRODUCTIVE', 'TECHNOLOGY?', 'Do', 'you', 'offer', 'DIPLOMA', 'IN', 'HINDUSTANI', 'VOCAL?', 'Do', 'you', 'offer', 'DIPLOMA', 'IN', 'INDOLOGY?', 'Do', 'you', 'offer', 'DIPLOMA', 'IN', 'KATHAK?', 'Do', 'you', 'offer', 'DIPLOMA', 'IN', 'KUCHIPUDI?', 'Do', 'you', 'offer', 'DIPLOMA', 'IN', 'MEDICAL', 'LABORATORY', 'TECHNOLOGY?', 'Do', 'you', 'offer', 'DIPLOMA', 'IN', 'MOHINIYATTAM?', 'Do', 'you', 'offer', 'DIPLOMA', 'IN', 'ODISSI?', 'Do', 'you', 'offer', 'DIPLOMA', 'IN', 'THEATRE', 'ARTS?', 'Do', 'you', 'offer', 'PG', 'DIPLOMA', 'IN', 'CLINICAL', 'EMBRYOLOGY', 'AND', 'ASSISTED', 'REPRODUCTIVE', 'TECHNOLOGY?', 'Do', 'you', 'offer', 'PH.D', 'IN', 'BIOCHEMISTRY?', 'Do', 'you', 'offer', 'PH.D', 'IN', 'BIOTECHNOLOGY?', 'Do', 'you', 'offer', 'PH.D', 'IN', 'CHEMISTRY?', 'Do', 'you', 'offer', 'PH.D', 'IN', 'CIVIL', 'ENGINEERING?', 'Do', 'you', 'offer', 'PH.D', 'IN', 'COMMERCE?', 'Do', 'you', 'offer', 'PH.D', 'IN', 'COMPUTER', 'SCIENCE', 'AND', 'APPLICATIONS?', 'Do', 'you', 'offer', 'PH.D', 'IN', 'COMPUTER', 'SCIENCE', 'AND', 'ENGINEERING?', 'Do', 'you', 'offer', 'PH.D', 'IN', 'ELECTRICAL', 'AND', 'ELECTRONICS', 'ENGINEERING?', 'Do', 'you', 'offer', 'PH.D', 'IN', 'ELECTRONICS', 'AND', 'COMMUNICATION', 'ENGINEERING?', 'Do', 'you', 'offer', 'PH.D', 'IN', 'ENGLISH?', 'Do', 'you', 'offer', 'PH.D', 'IN', 'LEGAL', 'STUDIES?', 'Do', 'you', 'offer', 'PH.D', 'IN', 'MANAGEMENT', 'STUDIES?', 'Do', 'you', 'offer', 'PH.D', 'IN', 'MATHEMATICS?', 'Do', 'you', 'offer', 'PH.D', 'IN', 'MECHANICAL', 'ENGINEERING?', 'Do', 'you', 'offer', 'PH.D', 'IN', 'PHYSICS?', 'Which', 'are', 'the', 'programs', 'offered', 'by', 'RACE', 'for', 'working', 'professionals?', 'What', 'is', 'the', 'duration', 'of', 'each', 'program?', 'What', 'are', 'the', 'prerequisites', 'to', 'join', 'corporate', 'programs?', 'Maximum', 'number', 'of', 'participants', 'for', 'each', 'program', 'What', 'about', 'the', 'program', 'delivery', 'modes?', 'Do', 'I', 'have', 'the', 'option', 'of', 'completing', 'the', 'program', 'online?', 'How', 'do', 'I', 'register', 'for', 'the', 'program', 'I', 'am', 'interested', 'in?', 'Do', 'you', 'provide', 'learning', 'materials', 'to', 'the', 'participants?', 'What', 'kind', 'of', 'infrastructure', 'facilities', 'can', 'I', 'expect?', 'Am', 'I', 'eligible', 'for', 'any', 'discounts?', 'What', 'are', 'the', 'tools', 'used', 'for', 'hands-on', 'learning', 'in', 'programs?', 'Is', 'it', 'possible', 'to', 'attend', 'a', 'classroom', 'session', 'before', 'joining', 'a', 'program?', 'What', 'can', 'I', 'expect', 'after', 'the', 'completion', 'of', 'the', 'program?', 'What', 'about', 'the', 'admission', 'cycle?', 'How', 'many', 'seats', 'are', 'available', 'for', 'long-term', 'programs?', 'Is', 'it', 'possible', 'to', 'pay', 'the', 'fees', 'in', 'instalments?', 'Do', 'you', 'offer', 'placement', 'assistance?', 'Why', 'should', 'I', 'join', 'MS', 'in', 'Business', 'Analytics', 'program?', 'What', 'is', 'the', 'scope', 'of', 'business', 'analytics?', 'When', 'do', 'the', 'admissions', 'for', 'the', 'MS', 'in', 'Business', 'Analytics', 'start?', 'Prerequisites', 'to', 'join', 'MS', 'in', 'Business', 'Analytics', 'Is', 'industry', 'experience', 'mandatory', 'for', 'MS', 'in', 'Business', 'Analytics?', 'How', 'can', 'I', 'learn', 'more', 'about', 'the', 'MS', 'in', 'Business', 'Analytics', 'program', 'of', 'RACE?', 'What', 'is', 'the', 'duration', 'of', 'the', 'MS', 'in', 'Business', 'Analytics', 'program?', 'Is', 'the', 'MS', 'in', 'Business', 'Analytics', 'program', 'recognized?', 'How', 'do', 'you', 'promote', 'experiential', 'learning', 'in', 'MS', 'in', 'Business', 'Analytics?', 'Do', 'you', 'have', 'certification', 'programs', 'in', 'analytics?', 'How', 'an', 'M.', 'Tech.', 'in', 'the', 'Artificial', 'Intelligence', 'program', 'help', 'me?', 'Who', 'can', 'apply', 'to', 'M.', 'Tech', 'in', 'AI?', 'Who', 'can', 'apply', 'to', 'M.', 'Sc.', 'or', 'PGD', 'in', 'AI?', 'What', 'subjects', 'do', 'I', 'study', 'in', 'Artificial', 'Intelligence?', 'How', 'does', 'RACE', 'deliver', 'artificial', 'intelligence', 'programs?', 'Are', 'there', 'any', 'artificial', 'intelligence', 'courses', 'offered', 'online?', 'What', 'is', 'the', 'demand', 'for', 'artificial', 'intelligence', 'professionals?', 'What', 'is', 'the', 'duration', 'of', 'RACEs', 'artificial', 'intelligence', 'programs?', 'When', 'does', 'the', 'new', 'batches', 'for', 'Artificial', 'intelligence', 'programs', 'start?', 'Is', 'industry', 'experience', 'mandatory', 'for', 'joining', 'AI', 'programs?', 'Is', 'the', 'M.', 'Tech', 'in', 'Artificial', 'intelligence', 'program', 'accredited?', 'How', 'can', 'I', 'learn', 'more', 'about', 'the', 'Artificial', 'intelligence', 'programs', 'of', 'RACE?', 'How', 'do', 'you', 'promote', 'experiential', 'learning', 'Artificial', 'intelligence?', 'Do', 'you', 'have', 'certification', 'programs', 'in', 'artificial', 'intelligence?', 'Why', 'do', 'I', 'learn', 'M.', 'Tech/M.Sc./', 'PGD', 'in', 'Cybersecurity', 'at', 'RACE?', 'Explain', 'the', 'difference', 'between', 'M.', 'Tech', 'and', 'M.Sc.', 'in', 'cybersecurity?', 'Are', 'there', 'any', 'cybersecurity', 'courses', 'offered', 'online?', 'What', 'is', 'the', 'demand', 'for', 'cybersecurity', 'professionals?', 'What', 'is', 'the', 'duration', 'of', 'RACEs', 'cybersecurity', 'programs?', 'When', 'do', 'you', 'start', 'new', 'batches', 'for', 'Cybersecurity', 'programs?', 'Can', 'I', 'apply', 'for', 'cybersecurity', 'programs', 'if', 'I', 'dont', 'have', 'any', 'experience', 'in', 'the', 'IT', 'or', 'cybersecurity', 'domain?', 'Does', 'cyber', 'security', 'course', 'have', 'UGC', 'approval?', 'How', 'can', 'I', 'learn', 'more', 'about', 'M.', 'Tech/MS/', 'PGD/Certifications', 'in', 'Cybersecurity', 'programs', 'of', 'RACE?', 'Do', 'you', 'have', 'certification', 'programs', 'in', 'the', 'cybersecurity', 'domain?', 'How', 'do', 'you', 'promote', 'experiential', 'learning', 'in', 'PGD/M.', 'Tech/MS', 'in', 'Cybersecurity?', 'Why', 'do', 'I', 'learn', 'M.', 'Sc.', 'in', 'Cloud', 'Architecture', 'and', 'Security', 'at', 'RACE?', 'Who', 'can', 'apply', 'to', 'M.', 'Sc.', 'in', 'Cloud', 'Architecture', 'and', 'Security', 'program?', 'What', 'are', 'the', 'subjects', 'to', 'study', 'under', 'the', 'M.', 'Sc.', 'in', 'Cloud', 'Architecture', 'and', 'Security?', 'What', 'is', 'the', 'mode', 'of', 'program', 'delivery?', 'What', 'is', 'the', 'demand', 'for', 'cloud', 'architecture', 'and', 'security', 'professionals?', 'What', 'is', 'the', 'duration', 'of', 'this', 'program?', 'When', 'do', 'you', 'start', 'the', 'new', 'batch', 'of', 'this', 'program?', 'Can', 'I', 'apply', 'for', 'this', 'program', 'if', 'I', 'dont', 'have', 'any', 'experience', 'in', 'the', 'domain?', 'Is', 'M.', 'Sc.', 'in', 'Cloud', 'Architecture', 'and', 'Security', 'program', 'accredited?', 'How', 'do', 'you', 'promote', 'experiential', 'learning', 'in', 'M.Sc.', 'in', 'Cloud', 'Architecture', 'and', 'Security?', 'Which', 'are', 'the', 'short-term', 'programs', 'available', 'at', 'RACE?', 'When', 'do', 'these', 'programs', 'commence?', 'What', 'are', 'the', 'criteria', 'for', 'certification', 'programs?', 'How', 'do', 'I', 'understand', 'that', 'the', 'certification', 'is', 'beneficial', 'for', 'me?', 'Are', 'the', 'certification', 'programs', 'offered', 'online?', 'Do', 'I', 'receive', 'a', 'certificate', 'for', 'short-term', 'programs?', 'Is', 'it', 'a', 'recognized', 'one?', 'What', 'is', 'the', 'duration', 'of', 'these', 'programs?', 'How', 'do', 'I', 'apply', 'for', 'the', 'short-term', 'certification', 'programs?', 'Do', 'you', 'have', 'specific', 'trainers/mentors', 'for', 'domain-specific', 'training?', 'Will', 'I', 'be', 'considered', 'an', 'alumnus', 'of', 'RACE', 'after', 'completing', 'a', 'short-term', 'program?', 'hi', 'there', 'hello', 'how', 'are', 'you', 'what', 'is', 'your', 'name', 'who', 'are', 'you', '?', 'you', 'are', 'who', '?', 'my', 'name', 'is', 'good', 'morning', \"it's\", 'morning', 'morning', 'good', 'evening', \"it's\", 'evening', 'evening', 'good', 'night', 'night', 'sweet', 'dreams', \"let's\", 'sleep', 'What', 'can', 'you', 'do', 'how', 'can', 'you', 'help', 'me', 'help', 'I', 'am', 'fine', 'thanks', 'I', 'am', 'fine', 'fine', 'thanks', 'thank', 'you', 'could', 'not', 'understand', 'audio']\n"
     ]
    }
   ],
   "source": [
    "##### List of Questions to list of words for better visualization\n",
    "word_list=[]\n",
    "list_question=list(df[\"Question\"])\n",
    "for sentence in list_question:\n",
    "    words_sentence=sentence.split()\n",
    "    for words in words_sentence:\n",
    "        word_list.append(words)\n",
    "\n",
    "\n",
    "word_list=[word for sentence in list(df[\"Question\"]) for word in sentence.split()]\n",
    "print(word_list)"
   ]
  },
  {
   "cell_type": "code",
   "execution_count": 35,
   "metadata": {},
   "outputs": [
    {
     "name": "stdout",
     "output_type": "stream",
     "text": [
      "Counter({'the': 251, 'you': 166, 'Do': 162, 'What': 143, 'offer': 123, 'is': 117, 'for': 110, 'I': 109, 'in': 99, 'to': 96, 'are': 72, 'How': 71, 'IN': 66, 'of': 62, 'REVA': 62, 'a': 55, 'Is': 52, 'have': 49, 'AND': 40, '-': 40, 'and': 39, 'do': 39, 'my': 37, 'any': 36, 'can': 34, 'there': 27, 'University?': 26, 'courses': 23, 'Can': 23, 'get': 21, 'not': 21, 'program?': 20, 'if': 20, 'at': 19, 'University': 19, 'campus?': 19, 'When': 19, 'many': 19, 'Does': 18, 'ENGINEERING?': 17, 'apply': 16, 'pay': 16, 'program': 15, 'be': 15, 'application': 15, 'programs?': 15, 'PH.D': 15, 'offered?': 14, 'offered': 14, 'fees': 14, 'from': 14, 'or': 14, 'B.TECH.': 14, 'COMPUTER': 14, 'programs': 13, 'it': 13, 'student': 13, 'hostel': 13, 'am': 12, 'Are': 12, 'Why': 12, 'HONS': 12, 'B.SC.': 12, 'M.TECH.': 12, 'DIPLOMA': 12, 'students': 11, 'on': 11, 'REVA?': 11, 'will': 11, 'admission?': 11, 'we': 11, 'M.': 11, 'university': 10, 'book': 10, 'ERP': 10, 'academic': 9, 'fee': 9, 'how': 9, 'Whom': 9, 'M.SC.': 9, 'unable': 8, 'admission': 8, 'UG': 8, 'Architecture': 8, 'Will': 8, 'contact': 8, 'Where': 8, 'certification': 8, 'SCIENCE': 8, 'MS': 8, 'Business': 8, 'process': 7, 'showing': 7, 'provide': 7, 'meals': 7, 'with': 7, 'semester?': 7, 'TECHNOLOGY?': 7, 'intelligence': 7, 'MPA': 6, 'paid': 6, 'about': 6, 'students?': 6, 'facility?': 6, 'eligibility': 6, 'online?': 6, 'does': 6, 'code': 6, 'attendance': 6, 'that': 6, 'Hostel': 6, 'need': 6, 'facility': 6, 'ELECTRONICS': 6, 'BBA': 6, 'CERTIFICATE': 6, 'duration': 6, 'learning': 6, 'Analytics': 6, 'RACE?': 6, 'Artificial': 6, 'cybersecurity': 6, 'joining': 5, 'hostel?': 5, 'scholarship': 5, 'Who': 5, 'after': 5, 'more': 5, 'by': 5, 'an': 5, 'fee?': 5, 'exams': 5, 'exam': 5, 'as': 5, 'inside': 5, 'mess': 5, 'laundry': 5, 'fill': 5, 'your': 5, 'login': 5, 'reflecting': 5, 'SCIENCE?': 5, 'B.A.': 5, 'learn': 5, 'Sc.': 5, 'artificial': 5, 'Cloud': 5, 'number': 4, 'placements?': 4, 'other': 4, 'accreditations': 4, 'recognitions': 4, 'development': 4, 'documents': 4, 'required': 4, 'payment': 4, 'available?': 4, 'criteria': 4, 'one': 4, 'modes': 4, 'working': 4, 'facilities': 4, 'medical': 4, 'food': 4, 'refund': 4, 'cancel': 4, 'provision': 4, 'but': 4, 'each': 4, 'available': 4, 'final': 4, 'sharing': 4, 'parents': 4, 'Security': 4, 'new': 4, 'meal': 4, 'code?': 4, 'Im': 4, 'fees.': 4, 'examination': 4, 'verify': 4, '/': 4, 'semester': 4, 'this': 4, 'join': 4, 'Grade': 4, 'Degree': 4, 'collect': 4, 'SYSTEMS': 4, 'B.COM': 4, 'TIME)?': 4, 'professionals?': 4, 'experience': 4, 'promote': 4, 'experiential': 4, 'short-term': 4, 'PG': 3, 'CET': 3, 'different': 3, 'has': 3, 'Contact': 3, 'sports': 3, 'admissions?': 3, 'procedure': 3, 'avail': 3, 'university?': 3, 'engineering': 3, 'compulsory': 3, 'course': 3, 'level': 3, 'take': 3, 'counselling': 3, 'campus': 3, 'Wi-Fi': 3, 'hours': 3, 'services': 3, 'court': 3, 'security': 3, 'accommodation': 3, 'through': 3, 'consider': 3, 'come': 3, 'The': 3, 'amount': 3, 'conduct': 3, 'degree': 3, 'want': 3, 'taken': 3, 'international': 3, 'placement': 3, 'year?': 3, 'hostels': 3, 'girls': 3, 'boys': 3, 'non-veg': 3, 'gym': 3, 'much': 3, 'what': 3, 'when': 3, 'Payment': 3, 'change': 3, 'fees?': 3, 'update': 3, 'check': 3, 'booking?': 3, 'Which': 3, 'happens': 3, 'who': 3, 'possible': 3, 'dont': 3, 'allowed': 3, 'installment?': 3, 'Fee': 3, 'concession': 3, 'Coursera': 3, 'specific': 3, 'training': 3, 'application?': 3, 'still': 3, 'Unable': 3, 'view': 3, 'ERP?': 3, 'displayed.': 3, 'name': 3, 'grade': 3, 'internal': 3, 'up': 3, 'mandatory': 3, 'salary': 3, 'health': 3, 'industry': 3, 'study': 3, 'Semester': 3, 'End': 3, 'from?': 3, 'certificate': 3, 'understand': 3, 'staff?': 3, 'start': 3, 'ARTIFICIAL': 3, 'ELECTRICAL': 3, 'B.B.A.': 3, 'FINANCE)?': 3, 'MANAGEMENT)?': 3, 'MATHS,': 3, 'MEDICAL': 3, 'PSYCHOLOGY?': 3, 'ENGINEERING': 3, 'MANAGEMENT': 3, 'CHEMISTRY?': 3, 'BHARATNATYAM?': 3, 'KATHAK?': 3, 'KUCHIPUDI?': 3, 'MOHINIYATTAM?': 3, 'ODISSI?': 3, 'CLINICAL': 3, 'EMBRYOLOGY': 3, 'ASSISTED': 3, 'REPRODUCTIVE': 3, 'RACE': 3, 'help': 3, 'Tech': 3, 'demand': 3, 'Cybersecurity': 3, 'domain?': 3, 'good': 3, 'morning': 3, 'evening': 3, 'fine': 3, 'connect': 2, 'department.': 2, 'Applications': 2, 'Management': 2, 'time': 2, 'course?': 2, 'Admission': 2, 'Admission?': 2, 'its': 2, 'universities?': 2, 'laptop': 2, 'extracurricular': 2, 'activities': 2, 'charge': 2, 'info': 2, 'visit': 2, 'make': 2, 'selection': 2, 'seat': 2, 'than': 2, 'differently': 2, 'abled': 2, 'far': 2, 'transport': 2, 'Cost': 2, 'Virtual': 2, 'Tour': 2, 'private': 2, 'recognized': 2, 'issued?': 2, 'timeline': 2, 'NATA': 2, 'refund?': 2, 'commence?': 2, 'COMEDK': 2, 'PGCET': 2, 'maintained': 2, 'ragging': 2, 'enabled?': 2, 'Administration': 2, 'Office': 2, 'NCC': 2, 'assessment': 2, 'pattern': 2, 'followed': 2, 'JEE': 2, 'minimum': 2, 'average': 2, 'highest': 2, 'open': 2, 'entrance': 2, 'deducted': 2, 'account': 2, 'higher': 2, 'online': 2, 'COMEDK?': 2, 'considered': 2, 'reside': 2, 'served': 2, 'times': 2, 'week': 2, 'included': 2, 'needs': 2, 'stay': 2, 'yearly': 2, 'If': 2, 'action': 2, 'monthly': 2, 'timings?': 2, 'number?': 2, 'without': 2, 'deduction': 2, 'meals?': 2, 'mobile': 2, 'friend': 2, 'mobile?': 2, 'option': 2, 'QR': 2, 'Could': 2, 'please': 2, 'warden': 2, 'information?': 2, 'issues.': 2, 'download': 2, 'particular': 2, 'applied': 2, 'convert': 2, 'Karnataka': 2, 'bank?': 2, 'Dress': 2, 'Code': 2, 'given': 2, 'courses?': 2, 'Scholarship?': 2, 'credential?': 2, 'our': 2, 'done': 2, 'branch': 2, 'only': 2, 'results': 2, 'upload': 2, 'test': 2, 'Coursera?': 2, 'previous': 2, 'Academic': 2, 'displayed': 2, 'details': 2, 'even': 2, 'days': 2, 'system': 2, 'followed?': 2, 'dress': 2, 'external': 2, 'marks': 2, 'percentage': 2, 'per': 2, 'semester/year?': 2, 'internship': 2, 'opportunity': 2, 'project': 2, 'placement?': 2, 'skill': 2, 'training?': 2, 'credit': 2, 'UGC': 2, 'foreign': 2, 'tied': 2, 'organized': 2, 'assistance': 2, 'bank': 2, 'architecture': 2, 'which': 2, 'laptops': 2, 'approach': 2, 'Examination': 2, 'Card?': 2, 'Duplicate': 2, 'Certificate?': 2, 'Transcript?': 2, 'Provisional': 2, 'find': 2, 'hall': 2, 'end': 2, 'conducted?': 2, 'CGPA': 2, 'card': 2, '&': 2, 'calculated?': 2, 'company?': 2, 'while': 2, 'Transportation': 2, 'leave': 2, 'credited?': 2, 'cycle?': 2, 'kind': 2, 'grievances?': 2, 'Leave': 2, 'app?': 2, 'eligible': 2, 'TAX': 2, 'INFORMATION': 2, 'MACHINE': 2, 'DATA': 2, 'COMMUNICATION': 2, 'CIVIL': 2, 'MECHANICAL': 2, 'BIO': 2, '(INDUSTRY': 2, 'INTEGRATED)?': 2, '(BANKING': 2, '(BUSINESS': 2, '(ACCOUNTING': 2, 'GENETICS?': 2, 'PHYSICS,': 2, 'LL.B.': 2, '(HONOURS)?': 2, 'JOURNALISM?': 2, 'BA': 2, 'JOURNALISM': 2, 'MASS': 2, 'COMMUNICATION?': 2, '(FULL': 2, 'VLSI': 2, 'EMBEDED': 2, 'BIOTECHNOLOGY?': 2, 'MATHEMATICS?': 2, 'PHYSICS?': 2, 'L.L.M.': 2, 'LAW)?': 2, 'M.A.': 2, 'ENGLISH?': 2, 'VOCAL?': 2, 'STUDIES?': 2, 'completing': 2, 'analytics?': 2, 'start?': 2, 'Analytics?': 2, 'me?': 2, 'AI?': 2, 'PGD': 2, 'subjects': 2, 'RACEs': 2, 'batches': 2, 'accredited?': 2, 'intelligence?': 2, 'M.Sc.': 2, 'Security?': 2, 'these': 2, '?': 2, \"it's\": 2, 'night': 2, 'thanks': 2, 'Computer': 1, 'UG?': 1, 'Arts': 1, 'Humanity': 1, 'Law': 1, 'Certification': 1, '(BBA)': 1, 'Mtech': 1, 'MA': 1, 'MSc': 1, 'MPlan': 1, 'MCom': 1, 'MCA': 1, 'LLM': 1, 'MBA': 1, 'PhD': 1, 'part': 1, 'Information': 1, 'offered.': 1, 'list': 1, 'accepting': 1, 'CET.': 1, 'enrollment': 1, 'Process': 1, 'International': 1, 'train': 1, 'affiliated': 1, 'to?': 1, 'makes': 1, 'unique': 1, 'Universities?': 1, 'life': 1, 'donations?': 1, 'Reva': 1, '100%': 1, 'exam?': 1, 'Scholarships': 1, 'deserving': 1, 'Education': 1, 'loans': 1, 'Download': 1, 'brochure': 1, 'Request': 1, 'call': 1, 'back': 1, 'registered': 1, 'founding': 1, 'chairman': 1, 'head': 1, 'career': 1, 'cell': 1, 'Application': 1, 'Fees': 1, 'quota?': 1, 'partial': 1, 'block': 1, '1': 1, 'provisions': 1, 'big': 1, 'city?': 1, 'airport': 1, 'PGs': 1, 'around': 1, 'bus': 1, 'Events': 1, 'hosted': 1, 'Holidays': 1, 'Campus': 1, 'UGC?': 1, 'own': 1, 'syllabus?': 1, 'taking': 1, 'rejected': 1, 'Engineering': 1, 'uniform': 1, 'center': 1, 'hours:': 1, 'sports,': 1, 'arrangement': 1, 'exchange': 1, 'Defense': 1, 'Quota?': 1, 'NTTF?': 1, 'Mains': 1, 'percentile': 1, 'score?': 1, 'score': 1, 'Mains?': 1, 'Top': 1, 'recruiters': 1, 'package?': 1, 'school?': 1, 'CET?': 1, 'Uni-GAUGE': 1, 'process?': 1, 'pending': 1, 'dashboard.': 1, 'interview': 1, 'valid': 1, 'pursue': 1, 'studies': 1, 'abroad?': 1, 'Mathematics': 1, 'PUC?': 1, 'strength': 1, 'class?': 1, 'ranking': 1, 'offline': 1, 'classes?': 1, 'cutoff': 1, 'PGCET,': 1, 'donation?': 1, 'deemed': 1, 'autonomous?': 1, 'internships?': 1, 'organize': 1, 'industrial': 1, 'visits?': 1, 'collaborations': 1, 'certifications': 1, 'faculties?': 1, 'VTU?': 1, 'Institute': 1, 'Technology': 1, 'same?': 1, 'Previous': 1, 'records': 1, 'Library': 1, 'internals': 1, 'CGPA?': 1, 'usual': 1, 'room': 1, 'served?': 1, 'guest': 1, 'house': 1, 'Warden': 1, 'information': 1, 'child': 1, 'monthly?': 1, 'well': 1, 'taken?': 1, 'In': 1, 'case': 1, 'gets': 1, 'COVID': 1, 'Testimonials': 1, 'students,': 1, 'alumni': 1, 'family': 1, 'they': 1, 'Atithi?': 1, 'year': 1, 'inclusive': 1, 'charges?': 1, 'Life': 1, '@': 1, 'includes': 1, 'videos.': 1, 'installment': 1, 'single': 1, 'three': 1, 'four': 1, 'availed?': 1, 'bag?': 1, 'request': 1, 'menu?': 1, 'each?': 1, 'mess?': 1, 'gym?': 1, 'file': 1, 'complaint': 1, 'against': 1, 'came': 1, 'didnt': 1, 'go': 1, 'deposit': 1, 'towards': 1, 'fines?': 1, 'timings': 1, 'Spacebasic': 1, 'App?': 1, 'often': 1, 'grand': 1, 'dinner?': 1, 'service': 1, 'provider': 1, 'recommended': 1, 'Maintenance': 1, 'Arrangements': 1, 'Rooms?': 1, 'forget': 1, 'turn': 1, 'up?': 1, 'parents?': 1, 'staying': 1, 'once': 1, 'booked?': 1, 'friends': 1, 'smart': 1, 'phone': 1, 'lose': 1, 'phone?': 1, 'app': 1, 'working?': 1, 'sick?': 1, 'booking': 1, 'veg': 1, 'non-veg?': 1, 'give': 1, 'into': 1, 'return': 1, 'early': 1, 'leave,': 1, 'expired?': 1, 'versus': 1, 'PG.': 1, 'access?': 1, 'SpaceBasic': 1, 'work': 1, 'both': 1, 'Android': 1, 'IPhone?': 1, 'Air-conditioned?': 1, 'facing': 1, 'receipts?': 1, 'concessions': 1, 'structures?': 1, 'payment?': 1, 'Course': 1, 'link': 1, 'invalid': 1, 'click': 1, 'link?': 1, 'structure': 1, 'mismatch': 1, 'KEA/COMEDK,': 1, 'being': 1, 'reflected': 1, 'ERP,': 1, 'considered?': 1, 'detail': 1, 'know': 1, 'details?': 1, 'directly': 1, 'Should': 1, 'finance': 1, 'department': 1, 'Anti-Ragging': 1, 'Committee?': 1, 'Uniform?': 1, 'centre': 1, 'Skill': 1, 'Placement': 1, 'Wi-fi': 1, 'reach': 1, 'Kindly': 1, 'share': 1, 'location': 1, 'details.': 1, 'Working': 1, 'facilities?': 1, 'Transport': 1, 'Certificate': 1, 'along': 1, 'regular': 1, 'Differently': 1, 'Abled': 1, 'View': 1, 'Receipt': 1, 'options': 1, 'Online': 1, 'RTGS': 1, 'NEFT': 1, 'mode?': 1, 'Portal': 1, '404': 1, 'Error?': 1, 'structure?': 1, 'had': 1, 'old': 1, 'ERP.': 1, 'been': 1, 'announced?': 1, 'trying': 1, 'website,but': 1, 'error': 1, 'message': 1, 'reflecting.': 1, 'portal': 1, 'JUNO': 1, 'Applicant': 1, 'student.': 1, 'SRN': 1, 'NO': 1, 'assignment': 1, 'profile?': 1, 'dashboard': 1, 'Students': 1, 'mapped': 1, 'subject.': 1, 'Attendance': 1, 'receipt.': 1, 'installments': 1, 'paid.': 1, 'calendar': 1, 'holidays,': 1, 'events.': 1, 'Content': 1, 'Syllabus.': 1, 'Courses': 1, 'semester.': 1, 'current': 1, 'got': 1, 'updated': 1, 'Mentors': 1, 'Timetable': 1, 'member': 1, 'library': 1, 'though': 1, 'issued': 1, 'books': 1, 'past?': 1, 'Fathers': 1, 'mothers': 1, 'spelling': 1, 'mistake': 1, 'general': 1, 'schedule': 1, 'class': 1, 'week/month/year?': 1, 'grading': 1, 'pass': 1, 'ratio': 1, 'marks?': 1, 'assignments?': 1, 'conducted': 1, 'elective': 1, 'question': 1, 'paper': 1, 'format?': 1, 'maintain': 1, 'tie': 1, 'projects': 1, 'within': 1, 'offers?': 1, 'assigned': 1, 'project?': 1, 'exams?': 1, 'merit': 1, 'scholarship?': 1, 'fest?': 1, 'NSS?': 1, 'package': 1, 'center?': 1, 'person': 1, 'participated': 1, 'national': 1, 'competition.': 1, 'type': 1, 'choice': 1, 'based': 1, 'all': 1, 'sibling': 1, 'wants': 1, 'Join': 1, 'REVA,': 1, 'he/she': 1, 'supported': 1, 'loan': 1, 'studies?': 1, 'accommodation?': 1, 'transfer': 1, 'another': 1, 'free': 1, 'approved': 1, 'AICTE?': 1, 'cut': 1, 'off': 1, 'qualification': 1, 'UG/PG': 1, 'writing': 1, 'KCET,': 1, 'abroad': 1, 'mentor': 1, 'guide?': 1, 'visiting': 1, 'faculty': 1, 'delivering': 1, 'allow': 1, 'transfer?': 1, 'competitive': 1, 'such': 1, 'GRE,': 1, 'TOEFL,': 1, 'CAT,': 1, 'GATE,': 1, 'IAS': 1, 'etc.?': 1, 'site/industrial': 1, 'visits': 1, 'financial': 1, 'attending': 1, 'conference': 1, 'presenting': 1, 'paper?': 1, 'withdraw': 1, 'admission,': 1, 'dates/time': 1, 'table': 1, 'applications': 1, 'ground': 1, 'rejected?': 1, 'form': 1, 'undergraduate': 1, 'mandatory?': 1, 'tour': 1, 'special': 1, 'classes': 1, 'arranged': 1, 'housing': 1, 'Student': 1, 'Housing': 1, 'Centre': 1, '(application)': 1, 'Examination?': 1, 'Fee?': 1, 'viewed?': 1, 'Photocopy': 1, 'Answer': 1, 'Scripts?': 1, 'Revaluation?': 1, 'Name': 1, 'Correction': 1, 'Card': 1, 'for?': 1, 'Consolidated': 1, 'cards': 1, 'collected': 1, '(SEE)': 1, 'table?': 1, 'ticket?': 1, 'tickets?': 1, 'odd': 1, 'Percentage?': 1, 'validate': 1, 'certificate?': 1, 'Grades': 1, 'their': 1, 'classification?': 1, 'SGPA': 1, 'Point?': 1, 'culture': 1, 'criterion': 1, 'Year': 1, 'starts?': 1, 'Application?': 1, 'Employee': 1, 'Benefits?': 1, 'applying?': 1, 'Timings?': 1, 'Insurance': 1, 'grocery': 1, 'shop': 1, 'joints': 1, 'CrÌ¬che': 1, 'facility.': 1, 'education': 1, 'policy': 1, 'date': 1, 'To': 1, 'notice': 1, 'period': 1, 'Organization?': 1, 'statutory': 1, 'compliance?': 1, 'Salary': 1, 'increment': 1, 'tax': 1, 'processing': 1, 'salary?': 1, 'employment': 1, 'bond': 1, 'during': 1, 'joining?': 1, 'Apply': 1, 'reset': 1, 'password': 1, 'COSEC': 1, 'official': 1, 'email': 1, 'id?': 1, 'Earned': 1, 'Leave?': 1, 'Clubbing': 1, 'public': 1, 'holidays.': 1, 'Sabbatical': 1, 'Leave?.': 1, 'Maternity': 1, 'leave/Matrimonial': 1, 'policy.': 1, 'Flexibility': 1, 'Timings.': 1, 'late': 1, 'ins': 1, 'month?': 1, 'miss': 1, 'swipe?': 1, 'swiping': 1, 'Cosec': 1, 'issues': 1, 'PF': 1, 'related?': 1, 'card?': 1, 'using': 1, 'card.': 1, 'vehicles': 1, 'park': 1, 'Staff': 1, 'quarters': 1, 'Hostel?': 1, 'employees?': 1, 'Transportation?': 1, 'LIC/VPS/Sodexo': 1, 'Salary?': 1, 'deductions': 1, 'queries?': 1, 'declaration?': 1, 'Form': 1, '16?': 1, 'INTELLIGENCE': 1, 'LEARNING?': 1, 'B.TEC': 1, 'INTEELIGENCE': 1, 'ROBOTICS': 1, 'AUTOMATION?': 1, 'MECHATRONICS': 1, 'ANALYTICS)?': 1, '(HEALTH': 1, 'CARE': 1, '(MARKETING)?': 1, '(STRATEGY': 1, 'LEADERSHIP)?': 1, '(TALENT': 1, '(NEW': 1, 'VENTURE': 1, 'FAMILY': 1, 'BUSINESS': 1, 'B.COM.': 1, 'STATISTICS)?': 1, 'TAXATION)?': 1, '(ECONOMICS': 1, 'B.C.A.?': 1, '(HONOURS)': 1, 'CLOUD': 1, 'COMPUTING': 1, 'BIG': 1, 'DATA?': 1, '(CYBER': 1, 'SECURITY)?': 1, '(MULTIMEDIA': 1, 'ANIMATION)?': 1, 'MICROBIOLOGY,': 1, 'CHEMISTRY': 1, 'BIOINFORMATICS': 1, 'BIOLOGY,': 1, 'BIOTECHNOLOGY,': 1, 'BIOCHEMISTRTY,': 1, 'STATISTICS,': 1, 'LAB': 1, 'RADIOLOGY': 1, 'DIAGNOSTIC': 1, 'IMAGING?': 1, 'NUTRITION': 1, 'DIETETICS?': 1, 'CHEMISTRTY,': 1, 'MATHS?': 1, 'B.ARCH?': 1, 'JOURNALISM,': 1, 'ENGLISH,': 1, 'POLITICAL': 1, 'SCIENCE,': 1, 'ECONOMICS': 1, 'TOURISM,': 1, 'HISTORY': 1, '(ENGLISH)?': 1, 'PERFORMING': 1, 'ARTS,': 1, 'ENGLISH': 1, 'INTELLIGENCE?': 1, 'CYBERSECURITY?': 1, 'ENGINEERING-(PART': 1, 'AIDED': 1, 'STRUCTURAL': 1, '(CASE)?': 1, 'CONTRUCTION': 1, 'TECHNOLOGY': 1, '(CTM)?': 1, 'TRANSPORTATION': 1, '(TEM)?': 1, '(PART': 1, 'DESIGN': 1, '(MD)?': 1, 'POWER': 1, 'ENERGY': 1, '(PS)?': 1, 'DIGITAL': 1, 'COMMUNICATIONS': 1, 'NETWORKING': 1, '(DCN)?': 1, 'BIOINFORMATICS?': 1, 'MICROBIAL': 1, '(': 1, 'CRIMINAL': 1, 'CORPORATE': 1, 'M.COM.?': 1, 'M.B.A.?': 1, 'M.C.A.': 1, 'REGULAR?': 1, 'CARNATIC': 1, 'HINDUSTANI': 1, 'INDOLOGY?': 1, 'LABORATORY': 1, 'THEATRE': 1, 'ARTS?': 1, 'BIOCHEMISTRY?': 1, 'COMMERCE?': 1, 'APPLICATIONS?': 1, 'LEGAL': 1, 'prerequisites': 1, 'corporate': 1, 'Maximum': 1, 'participants': 1, 'delivery': 1, 'modes?': 1, 'register': 1, 'interested': 1, 'in?': 1, 'materials': 1, 'participants?': 1, 'infrastructure': 1, 'expect?': 1, 'Am': 1, 'discounts?': 1, 'tools': 1, 'used': 1, 'hands-on': 1, 'attend': 1, 'classroom': 1, 'session': 1, 'before': 1, 'expect': 1, 'completion': 1, 'seats': 1, 'long-term': 1, 'instalments?': 1, 'assistance?': 1, 'should': 1, 'scope': 1, 'business': 1, 'admissions': 1, 'Prerequisites': 1, 'recognized?': 1, 'Tech.': 1, 'Intelligence': 1, 'Intelligence?': 1, 'deliver': 1, 'AI': 1, 'Tech/M.Sc./': 1, 'Explain': 1, 'difference': 1, 'between': 1, 'cybersecurity?': 1, 'IT': 1, 'cyber': 1, 'approval?': 1, 'Tech/MS/': 1, 'PGD/Certifications': 1, 'PGD/M.': 1, 'Tech/MS': 1, 'Cybersecurity?': 1, 'under': 1, 'mode': 1, 'delivery?': 1, 'cloud': 1, 'batch': 1, 'beneficial': 1, 'receive': 1, 'one?': 1, 'trainers/mentors': 1, 'domain-specific': 1, 'alumnus': 1, 'hi': 1, 'hello': 1, 'sweet': 1, 'dreams': 1, \"let's\": 1, 'sleep': 1, 'me': 1, 'thank': 1, 'could': 1, 'audio': 1})\n",
      "[('the', 251), ('you', 166), ('Do', 162), ('What', 143), ('offer', 123)]\n"
     ]
    }
   ],
   "source": [
    "from collections import Counter\n",
    "#####  frequency of each word and the most common words in the dataset\n",
    "frequency=Counter(word_list)\n",
    "print (frequency)\n",
    "print (frequency.most_common(5))"
   ]
  },
  {
   "cell_type": "code",
   "execution_count": 36,
   "metadata": {},
   "outputs": [
    {
     "name": "stdout",
     "output_type": "stream",
     "text": [
      "0      [i, am, unable, to, connect, to, admission, de...\n",
      "1                 [what, are, the, ug, courses, offered]\n",
      "2      [what, are, the, computer, applications, cours...\n",
      "3      [what, are, the, arts, and, humanity, courses,...\n",
      "4        [what, are, the, law, courses, offered, in, ug]\n",
      "5      [what, are, the, architecture, courses, offere...\n",
      "6      [what, are, the, certification, program, offer...\n",
      "7      [what, are, the, management, bba, courses, off...\n",
      "8                 [what, are, the, pg, courses, offered]\n",
      "9              [what, are, the, mtech, courses, offered]\n",
      "10                [what, are, the, ma, courses, offered]\n",
      "11               [what, are, the, msc, courses, offered]\n",
      "12             [what, are, the, mplan, courses, offered]\n",
      "13              [what, are, the, mcom, courses, offered]\n",
      "14               [what, are, the, mpa, courses, offered]\n",
      "15               [what, are, the, mca, courses, offered]\n",
      "16               [what, are, the, llm, courses, offered]\n",
      "17               [what, are, the, mba, courses, offered]\n",
      "18               [what, are, the, phd, courses, offered]\n",
      "19        [what, are, the, part, time, courses, offered]\n",
      "20     [what, are, the, fees, to, be, paid, for, a, c...\n",
      "21     [information, about, university, and, number, ...\n",
      "22     [admission, process, for, reva, cet, and, list...\n",
      "23     [what, is, the, enrollment, process, for, inte...\n",
      "24     [how, reva, train, its, students, for, placeme...\n",
      "25                      [what, is, reva, affiliated, to]\n",
      "26     [what, makes, reva, unique, from, other, unive...\n",
      "27     [what, are, the, other, accreditations, and, r...\n",
      "28               [do, i, get, laptop, on, joining, reva]\n",
      "29     [what, are, different, extracurricular, activi...\n",
      "                             ...                        \n",
      "610    [do, i, receive, a, certificate, for, shortter...\n",
      "611       [what, is, the, duration, of, these, programs]\n",
      "612    [how, do, i, apply, for, the, shortterm, certi...\n",
      "613    [do, you, have, specific, trainersmentors, for...\n",
      "614    [will, i, be, considered, an, alumnus, of, rac...\n",
      "615                                          [hi, there]\n",
      "616                               [hello, how, are, you]\n",
      "617                               [what, is, your, name]\n",
      "618                                      [who, are, you]\n",
      "619                                      [you, are, who]\n",
      "620                                       [my, name, is]\n",
      "621                                      [good, morning]\n",
      "622                                       [its, morning]\n",
      "623                                            [morning]\n",
      "624                                      [good, evening]\n",
      "625                                       [its, evening]\n",
      "626                                            [evening]\n",
      "627                                        [good, night]\n",
      "628                                              [night]\n",
      "629                                      [sweet, dreams]\n",
      "630                                        [lets, sleep]\n",
      "631                                 [what, can, you, do]\n",
      "632                            [how, can, you, help, me]\n",
      "633                                               [help]\n",
      "634                                [i, am, fine, thanks]\n",
      "635                                        [i, am, fine]\n",
      "636                                               [fine]\n",
      "637                                             [thanks]\n",
      "638                                         [thank, you]\n",
      "639                      [could, not, understand, audio]\n",
      "Name: que_no_punct, Length: 640, dtype: object\n"
     ]
    }
   ],
   "source": [
    "### Remove Punctuations and change all words to lower case\n",
    "import re\n",
    "def remove_punctuations(text):    \n",
    "    words=[word.lower() for word in text.split()] \n",
    "    words=[w for word in words for w in re.sub(r'[^\\w\\s]','',word).split()]    \n",
    "    return words\n",
    "\n",
    "df[\"que_no_punct\"]=df[\"Question\"].apply(remove_punctuations)\n",
    "print (df[\"que_no_punct\"])"
   ]
  },
  {
   "cell_type": "code",
   "execution_count": 37,
   "metadata": {},
   "outputs": [
    {
     "name": "stdout",
     "output_type": "stream",
     "text": [
      "0      [i, am, unable, to, connect, to, admission, de...\n",
      "1                 [what, are, the, ug, courses, offered]\n",
      "2      [what, are, the, computer, applications, cours...\n",
      "3      [what, are, the, arts, and, humanity, courses,...\n",
      "4        [what, are, the, law, courses, offered, in, ug]\n",
      "5      [what, are, the, architecture, courses, offere...\n",
      "6      [what, are, the, certification, program, offer...\n",
      "7      [what, are, the, management, bba, courses, off...\n",
      "8                 [what, are, the, pg, courses, offered]\n",
      "9              [what, are, the, mtech, courses, offered]\n",
      "10                [what, are, the, ma, courses, offered]\n",
      "11               [what, are, the, msc, courses, offered]\n",
      "12             [what, are, the, mplan, courses, offered]\n",
      "13              [what, are, the, mcom, courses, offered]\n",
      "14               [what, are, the, mpa, courses, offered]\n",
      "15               [what, are, the, mca, courses, offered]\n",
      "16               [what, are, the, llm, courses, offered]\n",
      "17               [what, are, the, mba, courses, offered]\n",
      "18               [what, are, the, phd, courses, offered]\n",
      "19        [what, are, the, part, time, courses, offered]\n",
      "20     [what, are, the, fees, to, be, paid, for, a, c...\n",
      "21     [information, about, university, and, number, ...\n",
      "22     [admission, process, for, reva, cet, and, list...\n",
      "23     [what, is, the, enrollment, process, for, inte...\n",
      "24     [how, reva, train, its, students, for, placeme...\n",
      "25                      [what, is, reva, affiliated, to]\n",
      "26     [what, makes, reva, unique, from, other, unive...\n",
      "27     [what, are, the, other, accreditations, and, r...\n",
      "28               [do, i, get, laptop, on, joining, reva]\n",
      "29     [what, are, different, extracurricular, activi...\n",
      "                             ...                        \n",
      "610    [do, i, receive, a, certificate, for, shortter...\n",
      "611       [what, is, the, duration, of, these, programs]\n",
      "612    [how, do, i, apply, for, the, shortterm, certi...\n",
      "613    [do, you, have, specific, trainersmentors, for...\n",
      "614    [will, i, be, considered, an, alumnus, of, rac...\n",
      "615                                          [hi, there]\n",
      "616                               [hello, how, are, you]\n",
      "617                               [what, is, your, name]\n",
      "618                                      [who, are, you]\n",
      "619                                      [you, are, who]\n",
      "620                                       [my, name, is]\n",
      "621                                      [good, morning]\n",
      "622                                       [its, morning]\n",
      "623                                            [morning]\n",
      "624                                      [good, evening]\n",
      "625                                       [its, evening]\n",
      "626                                            [evening]\n",
      "627                                        [good, night]\n",
      "628                                              [night]\n",
      "629                                      [sweet, dreams]\n",
      "630                                        [lets, sleep]\n",
      "631                                 [what, can, you, do]\n",
      "632                            [how, can, you, help, me]\n",
      "633                                               [help]\n",
      "634                                [i, am, fine, thanks]\n",
      "635                                        [i, am, fine]\n",
      "636                                               [fine]\n",
      "637                                             [thanks]\n",
      "638                                         [thank, you]\n",
      "639                       [could, not-understand, audio]\n",
      "Name: question_negative, Length: 640, dtype: object\n"
     ]
    }
   ],
   "source": [
    "def negative_words(words):\n",
    "    counter=False    \n",
    "    wordlist=[]    \n",
    "    negatives=[\"no\",\"not\",\"cant\",\"cannot\",\"never\",\"less\",\"without\",\"barely\",\"hardly\",\"rarely\",\"no\",\"not\",\"noway\",\"didnt\"]\n",
    "    #for words in wordlist:       \n",
    "    for i,j in enumerate(words):                           \n",
    "            if j in negatives and i<len(words)-1:             \n",
    "                wordlist.append(str(words[i]+'-'+words[i+1]))\n",
    "                counter=True\n",
    "            else:\n",
    "                if counter is False:                \n",
    "                    wordlist.append(words[i])\n",
    "                else:\n",
    "                    counter=False\n",
    "    return wordlist\n",
    "\n",
    "df[\"question_negative\"]=df[\"que_no_punct\"].apply(negative_words)\n",
    "print (df[\"question_negative\"])"
   ]
  },
  {
   "cell_type": "code",
   "execution_count": 38,
   "metadata": {},
   "outputs": [
    {
     "name": "stdout",
     "output_type": "stream",
     "text": [
      "0         i am unable to connect to admission department\n",
      "1                        what are the ug courses offered\n",
      "2      what are the computer applications courses off...\n",
      "3      what are the arts and humanity courses offered...\n",
      "4                 what are the law courses offered in ug\n",
      "5        what are the architecture courses offered in ug\n",
      "6       what are the certification program offered in ug\n",
      "7      what are the management bba courses offered in ug\n",
      "8                        what are the pg courses offered\n",
      "9                     what are the mtech courses offered\n",
      "10                       what are the ma courses offered\n",
      "11                      what are the msc courses offered\n",
      "12                    what are the mplan courses offered\n",
      "13                     what are the mcom courses offered\n",
      "14                      what are the mpa courses offered\n",
      "15                      what are the mca courses offered\n",
      "16                      what are the llm courses offered\n",
      "17                      what are the mba courses offered\n",
      "18                      what are the phd courses offered\n",
      "19                what are the part time courses offered\n",
      "20             what are the fees to be paid for a course\n",
      "21     information about university and number of cou...\n",
      "22     admission process for reva cet and list of pro...\n",
      "23     what is the enrollment process for internation...\n",
      "24            how reva train its students for placements\n",
      "25                            what is reva affiliated to\n",
      "26        what makes reva unique from other universities\n",
      "27     what are the other accreditations and recognit...\n",
      "28                       do i get laptop on joining reva\n",
      "29     what are different extracurricular activities ...\n",
      "                             ...                        \n",
      "610    do i receive a certificate for shortterm progr...\n",
      "611               what is the duration of these programs\n",
      "612    how do i apply for the shortterm certification...\n",
      "613    do you have specific trainersmentors for domai...\n",
      "614    will i be considered an alumnus of race after ...\n",
      "615                                             hi there\n",
      "616                                    hello how are you\n",
      "617                                    what is your name\n",
      "618                                          who are you\n",
      "619                                          you are who\n",
      "620                                           my name is\n",
      "621                                         good morning\n",
      "622                                          its morning\n",
      "623                                              morning\n",
      "624                                         good evening\n",
      "625                                          its evening\n",
      "626                                              evening\n",
      "627                                           good night\n",
      "628                                                night\n",
      "629                                         sweet dreams\n",
      "630                                           lets sleep\n",
      "631                                      what can you do\n",
      "632                                  how can you help me\n",
      "633                                                 help\n",
      "634                                     i am fine thanks\n",
      "635                                            i am fine\n",
      "636                                                 fine\n",
      "637                                               thanks\n",
      "638                                            thank you\n",
      "639                           could not-understand audio\n",
      "Name: modified_questions, Length: 640, dtype: object\n"
     ]
    }
   ],
   "source": [
    "### Recreate the sentence\n",
    "def Recreate(text):\n",
    "    word=\" \".join(text)\n",
    "    return word\n",
    "\n",
    "df[\"modified_questions\"]=df[\"question_negative\"].apply(Recreate)\n",
    "print (df[\"modified_questions\"])"
   ]
  },
  {
   "cell_type": "code",
   "execution_count": 39,
   "metadata": {},
   "outputs": [
    {
     "name": "stdout",
     "output_type": "stream",
     "text": [
      "[[0 0 0 ... 0 0 0]\n",
      " [0 0 0 ... 0 0 0]\n",
      " [0 0 0 ... 0 0 0]\n",
      " ...\n",
      " [0 0 0 ... 0 0 0]\n",
      " [0 0 0 ... 0 1 0]\n",
      " [0 0 0 ... 0 0 0]]\n",
      "['100', '16', '404', 'abled', 'about', 'abroad', 'academic', 'accepting', 'access', 'accommodation', 'account', 'accounting', 'accreditations', 'accredited', 'action', 'activities', 'administration', 'admission', 'admissions', 'affiliated', 'after', 'against', 'ai', 'aicte', 'aided', 'airconditioned', 'airport', 'all', 'allow', 'allowed', 'along', 'alumni', 'alumnus', 'am', 'amount', 'an', 'analytics', 'and', 'android', 'animation', 'announced', 'another', 'answer', 'antiragging', 'any', 'app', 'applicant', 'application', 'applications', 'applied', 'apply', 'applying', 'approach', 'approval', 'approved', 'architecture', 'are', 'around', 'arranged', 'arrangement', 'arrangements', 'artificial', 'arts', 'as', 'assessment', 'assigned', 'assignment', 'assignments', 'assistance', 'assisted', 'at', 'atithi', 'attend', 'attendance', 'attending', 'audio', 'automation', 'autonomous', 'avail', 'available', 'availed', 'average', 'ba', 'back', 'bag', 'bank', 'banking', 'barch', 'based', 'batch', 'batches', 'bba', 'bca', 'bcom', 'be', 'been', 'before', 'being', 'beneficial', 'benefits', 'between', 'bharatnatyam', 'big', 'bio', 'biochemistrty', 'biochemistry', 'bioinformatics', 'biology', 'biotechnology', 'block', 'bond', 'book', 'booked', 'booking', 'books', 'both', 'boys', 'branch', 'brochure', 'bsc', 'btec', 'btech', 'bus', 'business', 'but', 'by', 'calculated', 'calendar', 'call', 'came', 'campus', 'can', 'cancel', 'card', 'cards', 'care', 'career', 'carnatic', 'case', 'cat', 'cell', 'center', 'centre', 'certificate', 'certification', 'certifications', 'cet', 'cgpa', 'chairman', 'change', 'charge', 'charges', 'check', 'chemistrty', 'chemistry', 'child', 'choice', 'city', 'civil', 'class', 'classes', 'classification', 'classroom', 'click', 'clinical', 'cloud', 'clubbing', 'code', 'collaborations', 'collect', 'collected', 'come', 'comedk', 'commence', 'commerce', 'committee', 'communication', 'communications', 'company', 'competition', 'competitive', 'complaint', 'completing', 'completion', 'compliance', 'compulsory', 'computer', 'computing', 'concession', 'concessions', 'conduct', 'conducted', 'conference', 'connect', 'consider', 'considered', 'consolidated', 'contact', 'content', 'contruction', 'convert', 'corporate', 'correction', 'cosec', 'cost', 'could', 'counselling', 'course', 'coursera', 'courses', 'court', 'covid', 'credential', 'credit', 'credited', 'criminal', 'criteria', 'criterion', 'crìche', 'ctm', 'culture', 'current', 'cut', 'cutoff', 'cyber', 'cybersecurity', 'cycle', 'dashboard', 'data', 'date', 'datestime', 'days', 'dcn', 'declaration', 'deducted', 'deduction', 'deductions', 'deemed', 'defense', 'degree', 'deliver', 'delivering', 'delivery', 'demand', 'department', 'deposit', 'deserving', 'design', 'detail', 'details', 'development', 'diagnostic', 'didnt', 'dietetics', 'difference', 'different', 'differently', 'digital', 'dinner', 'diploma', 'directly', 'discounts', 'displayed', 'do', 'documents', 'does', 'domain', 'domainspecific', 'donation', 'donations', 'done', 'dont', 'download', 'dreams', 'dress', 'duplicate', 'duration', 'during', 'each', 'early', 'earned', 'economics', 'education', 'elective', 'electrical', 'electronics', 'eligibility', 'eligible', 'email', 'embeded', 'embryology', 'employee', 'employees', 'employment', 'enabled', 'end', 'energy', 'engineering', 'engineeringpart', 'english', 'enrollment', 'entrance', 'erp', 'error', 'etc', 'even', 'evening', 'events', 'exam', 'examination', 'exams', 'exchange', 'expect', 'experience', 'experiential', 'expired', 'explain', 'external', 'extracurricular', 'facilities', 'facility', 'facing', 'faculties', 'faculty', 'family', 'far', 'fathers', 'fee', 'fees', 'fest', 'file', 'fill', 'final', 'finance', 'financial', 'find', 'fine', 'fines', 'flexibility', 'followed', 'food', 'for', 'foreign', 'forget', 'form', 'format', 'founding', 'four', 'free', 'friend', 'friends', 'from', 'full', 'gate', 'general', 'genetics', 'get', 'gets', 'girls', 'give', 'given', 'go', 'good', 'got', 'grade', 'grades', 'grading', 'grand', 'gre', 'grievances', 'grocery', 'ground', 'guest', 'guide', 'gym', 'had', 'hall', 'handson', 'happens', 'has', 'have', 'head', 'health', 'hello', 'help', 'heshe', 'hi', 'higher', 'highest', 'hindustani', 'history', 'holidays', 'honours', 'hons', 'hosted', 'hostel', 'hostels', 'hours', 'house', 'housing', 'how', 'humanity', 'ias', 'id', 'if', 'im', 'imaging', 'in', 'included', 'includes', 'inclusive', 'increment', 'indology', 'industrial', 'industry', 'info', 'information', 'infrastructure', 'ins', 'inside', 'installment', 'installments', 'instalments', 'institute', 'insurance', 'inteeligence', 'integrated', 'intelligence', 'interested', 'internal', 'internals', 'international', 'internship', 'internships', 'interview', 'into', 'invalid', 'iphone', 'is', 'issued', 'issues', 'it', 'its', 'jee', 'join', 'joining', 'joints', 'journalism', 'juno', 'karnataka', 'kathak', 'kcet', 'keacomedk', 'kind', 'kindly', 'know', 'kuchipudi', 'lab', 'laboratory', 'laptop', 'laptops', 'late', 'laundry', 'law', 'leadership', 'learn', 'learning', 'leave', 'leavematrimonial', 'legal', 'lets', 'level', 'library', 'licvpssodexo', 'life', 'link', 'list', 'llb', 'llm', 'loan', 'loans', 'location', 'login', 'longterm', 'lose', 'ma', 'machine', 'mains', 'maintain', 'maintained', 'maintenance', 'make', 'makes', 'management', 'mandatory', 'many', 'mapped', 'marketing', 'marks', 'mass', 'materials', 'maternity', 'mathematics', 'maths', 'maximum', 'mba', 'mca', 'mcom', 'md', 'me', 'meal', 'meals', 'mechanical', 'mechatronics', 'medical', 'member', 'mentor', 'mentors', 'menu', 'merit', 'mess', 'message', 'microbial', 'microbiology', 'minimum', 'mismatch', 'miss', 'mistake', 'mobile', 'mode', 'modes', 'mohiniyattam', 'month', 'monthly', 'more', 'morning', 'mothers', 'mpa', 'mplan', 'ms', 'msc', 'mtech', 'much', 'multimedia', 'my', 'name', 'nata', 'national', 'ncc', 'need', 'needs', 'neft', 'networking', 'new', 'night', 'no', 'nonveg', 'not', 'notice', 'nss', 'nttf', 'number', 'nutrition', 'odd', 'odissi', 'of', 'off', 'offer', 'offered', 'offers', 'office', 'official', 'offline', 'often', 'old', 'on', 'once', 'one', 'online', 'only', 'open', 'opportunity', 'option', 'options', 'or', 'organization', 'organize', 'organized', 'other', 'our', 'own', 'package', 'paid', 'paper', 'parents', 'park', 'part', 'partial', 'participants', 'participated', 'particular', 'pass', 'password', 'past', 'pattern', 'pay', 'payment', 'pending', 'per', 'percentage', 'percentile', 'performing', 'period', 'person', 'pf', 'pg', 'pgcet', 'pgd', 'pgdcertifications', 'pgdm', 'pgs', 'phd', 'phone', 'photocopy', 'physics', 'placement', 'placements', 'please', 'point', 'policy', 'political', 'portal', 'possible', 'power', 'prerequisites', 'presenting', 'previous', 'private', 'procedure', 'process', 'processing', 'professionals', 'profile', 'program', 'programs', 'project', 'projects', 'promote', 'provide', 'provider', 'provision', 'provisional', 'provisions', 'ps', 'psychology', 'public', 'puc', 'pursue', 'qr', 'qualification', 'quarters', 'queries', 'question', 'quota', 'race', 'races', 'radiology', 'ragging', 'ranking', 'ratio', 'reach', 'receipt', 'receipts', 'receive', 'recognitions', 'recognized', 'recommended', 'records', 'recruiters', 'reflected', 'reflecting', 'refund', 'register', 'registered', 'regular', 'rejected', 'related', 'reproductive', 'request', 'required', 'reset', 'reside', 'results', 'return', 'reva', 'revaluation', 'robotics', 'room', 'rooms', 'rtgs', 'sabbatical', 'salary', 'same', 'sc', 'schedule', 'scholarship', 'scholarships', 'school', 'science', 'scope', 'score', 'scripts', 'seat', 'seats', 'security', 'see', 'selection', 'semester', 'semesteryear', 'served', 'service', 'services', 'session', 'sgpa', 'share', 'sharing', 'shop', 'shortterm', 'should', 'showing', 'sibling', 'sick', 'single', 'siteindustrial', 'skill', 'sleep', 'smart', 'spacebasic', 'special', 'specific', 'spelling', 'sports', 'srn', 'staff', 'start', 'starts', 'statistics', 'statutory', 'stay', 'staying', 'still', 'strategy', 'strength', 'structural', 'structure', 'structures', 'student', 'students', 'studies', 'study', 'subject', 'subjects', 'such', 'supported', 'sweet', 'swipe', 'swiping', 'syllabus', 'system', 'systems', 'table', 'take', 'taken', 'taking', 'talent', 'tax', 'taxation', 'tech', 'techms', 'techmsc', 'technology', 'tem', 'test', 'testimonials', 'than', 'thank', 'thanks', 'that', 'the', 'theatre', 'their', 'there', 'these', 'they', 'this', 'though', 'three', 'through', 'ticket', 'tickets', 'tie', 'tied', 'time', 'timeline', 'times', 'timetable', 'timings', 'to', 'toefl', 'tools', 'top', 'tour', 'tourism', 'towards', 'train', 'trainersmentors', 'training', 'transcript', 'transfer', 'transport', 'transportation', 'trying', 'turn', 'type', 'ug', 'ugc', 'ugpg', 'unable', 'under', 'undergraduate', 'understand', 'uniform', 'unigauge', 'unique', 'universities', 'university', 'up', 'update', 'updated', 'upload', 'used', 'using', 'usual', 'valid', 'validate', 'veg', 'vehicles', 'venture', 'verify', 'versus', 'videos', 'view', 'viewed', 'virtual', 'visit', 'visiting', 'visits', 'vlsi', 'vocal', 'vtu', 'want', 'wants', 'warden', 'we', 'websitebut', 'week', 'weekmonthyear', 'well', 'what', 'when', 'where', 'which', 'while', 'who', 'whom', 'why', 'wifi', 'will', 'with', 'withdraw', 'within', 'without', 'work', 'working', 'writing', 'year', 'yearly', 'you', 'your']\n"
     ]
    }
   ],
   "source": [
    "### Let's change the sentence into a bag of word model\n",
    "from sklearn.feature_extraction.text import CountVectorizer\n",
    "vectorizer = CountVectorizer()\n",
    "X = vectorizer.fit_transform(df[\"modified_questions\"]).toarray()\n",
    "print(X)\n",
    "print(vectorizer.get_feature_names())"
   ]
  },
  {
   "cell_type": "code",
   "execution_count": 40,
   "metadata": {},
   "outputs": [
    {
     "name": "stdout",
     "output_type": "stream",
     "text": [
      "0                 i am unabl to connect to admiss depart\n",
      "1                            what are the ug cours offer\n",
      "2           what are the comput applic cours offer in ug\n",
      "3           what are the art and human cours offer in ug\n",
      "4                     what are the law cours offer in ug\n",
      "5             what are the architectur cours offer in ug\n",
      "6                what are the certif program offer in ug\n",
      "7               what are the manag bba cours offer in ug\n",
      "8                            what are the pg cours offer\n",
      "9                         what are the mtech cours offer\n",
      "10                           what are the ma cours offer\n",
      "11                          what are the msc cours offer\n",
      "12                        what are the mplan cours offer\n",
      "13                         what are the mcom cours offer\n",
      "14                          what are the mpa cours offer\n",
      "15                          what are the mca cours offer\n",
      "16                          what are the llm cours offer\n",
      "17                          what are the mba cours offer\n",
      "18                          what are the phd cours offer\n",
      "19                    what are the part time cours offer\n",
      "20               what are the fee to be paid for a cours\n",
      "21        inform about univers and number of cours offer\n",
      "22     admiss process for reva cet and list of progra...\n",
      "23           what is the enrol process for intern admiss\n",
      "24               how reva train it student for placement\n",
      "25                                what is reva affili to\n",
      "26               what make reva uniqu from other univers\n",
      "27     what are the other accredit and recognit of re...\n",
      "28                          do i get laptop on join reva\n",
      "29         what are differ extracurricular activ in reva\n",
      "                             ...                        \n",
      "610    do i receiv a certif for shortterm program is ...\n",
      "611                   what is the durat of these program\n",
      "612      how do i appli for the shortterm certif program\n",
      "613    do you have specif trainersmentor for domainsp...\n",
      "614    will i be consid an alumnu of race after compl...\n",
      "615                                             hi there\n",
      "616                                    hello how are you\n",
      "617                                    what is your name\n",
      "618                                          who are you\n",
      "619                                          you are who\n",
      "620                                           my name is\n",
      "621                                            good morn\n",
      "622                                              it morn\n",
      "623                                                 morn\n",
      "624                                            good even\n",
      "625                                              it even\n",
      "626                                                 even\n",
      "627                                           good night\n",
      "628                                                night\n",
      "629                                          sweet dream\n",
      "630                                            let sleep\n",
      "631                                      what can you do\n",
      "632                                  how can you help me\n",
      "633                                                 help\n",
      "634                                      i am fine thank\n",
      "635                                            i am fine\n",
      "636                                                 fine\n",
      "637                                                thank\n",
      "638                                            thank you\n",
      "639                           could not-understand audio\n",
      "Name: modified_Questions, Length: 640, dtype: object\n"
     ]
    }
   ],
   "source": [
    "def Cleaning_questions(text):\n",
    "    No_text_punctuation=remove_punctuations(text)\n",
    "    No_Negative_words=negative_words(No_text_punctuation)\n",
    "    #text_stem=Stem(No_Negative_words)\n",
    "    final_questions=Recreate(No_Negative_words)\n",
    "    return final_questions\n",
    "df[\"modified_Questions\"]=df[\"Question\"].apply(Cleaning_questions)\n",
    "print (df[\"modified_Questions\"])"
   ]
  },
  {
   "cell_type": "code",
   "execution_count": 41,
   "metadata": {},
   "outputs": [],
   "source": [
    "questions=df['modified_Questions'].values.tolist()\n"
   ]
  },
  {
   "cell_type": "code",
   "execution_count": 42,
   "metadata": {},
   "outputs": [],
   "source": [
    "labels=df['S.No'].values.tolist()"
   ]
  },
  {
   "cell_type": "code",
   "execution_count": 43,
   "metadata": {},
   "outputs": [],
   "source": [
    "answers=df['Answers'].values.tolist()"
   ]
  },
  {
   "cell_type": "code",
   "execution_count": 44,
   "metadata": {},
   "outputs": [
    {
     "name": "stdout",
     "output_type": "stream",
     "text": [
      "<class 'pandas.core.frame.DataFrame'>\n",
      "Int64Index: 640 entries, 0 to 639\n",
      "Data columns (total 8 columns):\n",
      "S.No                  640 non-null int64\n",
      "Question              640 non-null object\n",
      "Category              640 non-null object\n",
      "Answers               640 non-null object\n",
      "que_no_punct          640 non-null object\n",
      "question_negative     640 non-null object\n",
      "modified_questions    640 non-null object\n",
      "modified_Questions    640 non-null object\n",
      "dtypes: int64(1), object(7)\n",
      "memory usage: 65.0+ KB\n"
     ]
    }
   ],
   "source": [
    "df.info()"
   ]
  },
  {
   "cell_type": "code",
   "execution_count": 45,
   "metadata": {},
   "outputs": [
    {
     "data": {
      "image/png": "[encoded data removed]",
      "text/plain": [
       "<Figure size 864x864 with 1 Axes>"
      ]
     },
     "metadata": {},
     "output_type": "display_data"
    }
   ],
   "source": [
    "##### Now let's create a wordcloud to get a better understanding of our corpus\n",
    "import matplotlib.pyplot as plt\n",
    "from wordcloud import WordCloud\n",
    "##### Download using conda install -c conda-forge wordcloud\n",
    "\n",
    "def show_wordcloud(data, title = None):\n",
    "    wordcloud = WordCloud(background_color='black',).generate(str(data))\n",
    "\n",
    "    fig = plt.figure(1, figsize=(12, 12))\n",
    "    plt.axis('off')\n",
    "    plt.imshow(wordcloud)\n",
    "    plt.show()\n",
    "    \n",
    "show_wordcloud(df['Question'])"
   ]
  },
  {
   "cell_type": "code",
   "execution_count": 19,
   "metadata": {},
   "outputs": [],
   "source": [
    "bow_vectorizer = CountVectorizer()"
   ]
  },
  {
   "cell_type": "code",
   "execution_count": 20,
   "metadata": {},
   "outputs": [],
   "source": [
    "training_vectors = bow_vectorizer.fit_transform(questions)"
   ]
  },
  {
   "cell_type": "code",
   "execution_count": 21,
   "metadata": {},
   "outputs": [
    {
     "data": {
      "text/plain": [
       "MultinomialNB(alpha=1.0, class_prior=None, fit_prior=True)"
      ]
     },
     "execution_count": 21,
     "metadata": {},
     "output_type": "execute_result"
    }
   ],
   "source": [
    "classifier = MultinomialNB()\n",
    "classifier.fit(training_vectors, labels)"
   ]
  },
  {
   "cell_type": "code",
   "execution_count": 22,
   "metadata": {
    "scrolled": true
   },
   "outputs": [],
   "source": [
    "y_pred=classifier.predict(training_vectors)"
   ]
  },
  {
   "cell_type": "code",
   "execution_count": 23,
   "metadata": {},
   "outputs": [],
   "source": [
    "from sklearn.metrics import accuracy_score,classification_report,confusion_matrix"
   ]
  },
  {
   "cell_type": "code",
   "execution_count": 24,
   "metadata": {},
   "outputs": [
    {
     "data": {
      "text/plain": [
       "0.9546875"
      ]
     },
     "execution_count": 24,
     "metadata": {},
     "output_type": "execute_result"
    }
   ],
   "source": [
    "accuracy_score(labels,y_pred)"
   ]
  },
  {
   "cell_type": "code",
   "execution_count": 25,
   "metadata": {},
   "outputs": [
    {
     "name": "stdout",
     "output_type": "stream",
     "text": [
      "             precision    recall  f1-score   support\n",
      "\n",
      "          1       1.00      1.00      1.00         1\n",
      "          2       1.00      1.00      1.00         1\n",
      "          3       1.00      1.00      1.00         1\n",
      "          4       1.00      1.00      1.00         1\n",
      "          5       1.00      1.00      1.00         1\n",
      "          6       1.00      1.00      1.00         1\n",
      "          7       1.00      1.00      1.00         1\n",
      "          8       1.00      1.00      1.00         1\n",
      "          9       1.00      1.00      1.00         1\n",
      "         10       1.00      1.00      1.00         1\n",
      "         11       1.00      1.00      1.00         1\n",
      "         12       1.00      1.00      1.00         1\n",
      "         13       1.00      1.00      1.00         1\n",
      "         14       1.00      1.00      1.00         1\n",
      "         15       1.00      1.00      1.00         1\n",
      "         16       1.00      1.00      1.00         1\n",
      "         17       1.00      1.00      1.00         1\n",
      "         18       1.00      1.00      1.00         1\n",
      "         19       1.00      1.00      1.00         1\n",
      "         20       1.00      1.00      1.00         1\n",
      "         21       1.00      1.00      1.00         1\n",
      "         22       1.00      1.00      1.00         1\n",
      "         23       1.00      1.00      1.00         1\n",
      "         24       1.00      1.00      1.00         1\n",
      "         25       1.00      1.00      1.00         1\n",
      "         26       1.00      1.00      1.00         1\n",
      "         27       1.00      1.00      1.00         1\n",
      "         28       0.50      1.00      0.67         1\n",
      "         29       0.33      1.00      0.50         1\n",
      "         30       1.00      1.00      1.00         1\n",
      "         31       1.00      1.00      1.00         1\n",
      "         32       0.50      1.00      0.67         1\n",
      "         33       1.00      1.00      1.00         1\n",
      "         34       1.00      1.00      1.00         1\n",
      "         35       1.00      1.00      1.00         1\n",
      "         36       0.50      1.00      0.67         1\n",
      "         37       0.50      1.00      0.67         1\n",
      "         38       1.00      1.00      1.00         1\n",
      "         39       1.00      1.00      1.00         1\n",
      "         40       1.00      1.00      1.00         1\n",
      "         41       1.00      1.00      1.00         1\n",
      "         42       1.00      1.00      1.00         1\n",
      "         43       1.00      1.00      1.00         1\n",
      "         44       0.00      0.00      0.00         1\n",
      "         45       1.00      1.00      1.00         1\n",
      "         46       1.00      1.00      1.00         1\n",
      "         47       1.00      1.00      1.00         1\n",
      "         48       1.00      1.00      1.00         1\n",
      "         49       0.33      1.00      0.50         1\n",
      "         50       1.00      1.00      1.00         1\n",
      "         51       1.00      1.00      1.00         1\n",
      "         52       1.00      1.00      1.00         1\n",
      "         53       1.00      1.00      1.00         1\n",
      "         54       1.00      1.00      1.00         1\n",
      "         55       0.50      1.00      0.67         1\n",
      "         56       1.00      1.00      1.00         1\n",
      "         57       1.00      1.00      1.00         1\n",
      "         58       1.00      1.00      1.00         1\n",
      "         59       1.00      1.00      1.00         1\n",
      "         60       1.00      1.00      1.00         1\n",
      "         61       1.00      1.00      1.00         1\n",
      "         62       1.00      1.00      1.00         1\n",
      "         63       1.00      1.00      1.00         1\n",
      "         64       0.00      0.00      0.00         1\n",
      "         65       1.00      1.00      1.00         1\n",
      "         66       1.00      1.00      1.00         1\n",
      "         67       1.00      1.00      1.00         1\n",
      "         68       1.00      1.00      1.00         1\n",
      "         69       0.50      1.00      0.67         1\n",
      "         70       1.00      1.00      1.00         1\n",
      "         71       1.00      1.00      1.00         1\n",
      "         72       1.00      1.00      1.00         1\n",
      "         73       0.00      0.00      0.00         1\n",
      "         74       1.00      1.00      1.00         1\n",
      "         75       1.00      1.00      1.00         1\n",
      "         76       1.00      1.00      1.00         1\n",
      "         77       1.00      1.00      1.00         1\n",
      "         78       1.00      1.00      1.00         1\n",
      "         79       1.00      1.00      1.00         1\n",
      "         80       1.00      1.00      1.00         1\n",
      "         81       0.50      1.00      0.67         1\n",
      "         82       1.00      1.00      1.00         1\n",
      "         83       1.00      1.00      1.00         1\n",
      "         84       1.00      1.00      1.00         1\n",
      "         85       0.50      1.00      0.67         1\n",
      "         86       0.50      1.00      0.67         1\n",
      "         87       0.50      1.00      0.67         1\n",
      "         88       1.00      1.00      1.00         1\n",
      "         89       1.00      1.00      1.00         1\n",
      "         90       0.50      1.00      0.67         1\n",
      "         91       1.00      1.00      1.00         1\n",
      "         92       1.00      1.00      1.00         1\n",
      "         93       1.00      1.00      1.00         1\n",
      "         94       0.50      1.00      0.67         1\n",
      "         95       1.00      1.00      1.00         1\n",
      "         96       1.00      1.00      1.00         1\n",
      "         97       1.00      1.00      1.00         1\n",
      "         98       1.00      1.00      1.00         1\n",
      "         99       1.00      1.00      1.00         1\n",
      "        100       1.00      1.00      1.00         1\n",
      "        101       1.00      1.00      1.00         1\n",
      "        102       1.00      1.00      1.00         1\n",
      "        103       1.00      1.00      1.00         1\n",
      "        104       1.00      1.00      1.00         1\n",
      "        105       1.00      1.00      1.00         1\n",
      "        106       1.00      1.00      1.00         1\n",
      "        107       1.00      1.00      1.00         1\n",
      "        108       1.00      1.00      1.00         1\n",
      "        109       1.00      1.00      1.00         1\n",
      "        110       1.00      1.00      1.00         1\n",
      "        111       1.00      1.00      1.00         1\n",
      "        112       1.00      1.00      1.00         1\n",
      "        113       0.00      0.00      0.00         1\n",
      "        114       1.00      1.00      1.00         1\n",
      "        115       1.00      1.00      1.00         1\n",
      "        116       1.00      1.00      1.00         1\n",
      "        117       1.00      1.00      1.00         1\n",
      "        118       1.00      1.00      1.00         1\n",
      "        119       1.00      1.00      1.00         1\n",
      "        120       1.00      1.00      1.00         1\n",
      "        121       1.00      1.00      1.00         1\n",
      "        122       1.00      1.00      1.00         1\n",
      "        123       1.00      1.00      1.00         1\n",
      "        124       1.00      1.00      1.00         1\n",
      "        125       0.00      0.00      0.00         1\n",
      "        126       1.00      1.00      1.00         1\n",
      "        127       1.00      1.00      1.00         1\n",
      "        128       1.00      1.00      1.00         1\n",
      "        129       1.00      1.00      1.00         1\n",
      "        130       1.00      1.00      1.00         1\n",
      "        131       0.50      1.00      0.67         1\n",
      "        132       0.50      1.00      0.67         1\n",
      "        133       1.00      1.00      1.00         1\n",
      "        134       0.50      1.00      0.67         1\n",
      "        135       1.00      1.00      1.00         1\n",
      "        136       0.50      1.00      0.67         1\n",
      "        137       0.50      1.00      0.67         1\n",
      "        138       1.00      1.00      1.00         1\n",
      "        139       1.00      1.00      1.00         1\n",
      "        140       1.00      1.00      1.00         1\n",
      "        141       1.00      1.00      1.00         1\n",
      "        142       1.00      1.00      1.00         1\n",
      "        143       1.00      1.00      1.00         1\n",
      "        144       1.00      1.00      1.00         1\n",
      "        145       1.00      1.00      1.00         1\n",
      "        146       1.00      1.00      1.00         1\n",
      "        147       1.00      1.00      1.00         1\n",
      "        148       1.00      1.00      1.00         1\n",
      "        149       1.00      1.00      1.00         1\n",
      "        150       0.00      0.00      0.00         1\n",
      "        151       1.00      1.00      1.00         1\n",
      "        152       1.00      1.00      1.00         1\n",
      "        153       0.00      0.00      0.00         1\n",
      "        154       1.00      1.00      1.00         1\n",
      "        155       1.00      1.00      1.00         1\n",
      "        156       1.00      1.00      1.00         1\n",
      "        157       1.00      1.00      1.00         1\n",
      "        158       1.00      1.00      1.00         1\n",
      "        159       1.00      1.00      1.00         1\n",
      "        160       1.00      1.00      1.00         1\n",
      "        161       1.00      1.00      1.00         1\n",
      "        162       1.00      1.00      1.00         1\n",
      "        163       0.00      0.00      0.00         1\n",
      "        164       0.00      0.00      0.00         1\n",
      "        165       0.00      0.00      0.00         1\n",
      "        166       0.00      0.00      0.00         1\n",
      "        167       0.00      0.00      0.00         1\n",
      "        168       1.00      1.00      1.00         1\n",
      "        169       1.00      1.00      1.00         1\n",
      "        170       1.00      1.00      1.00         1\n",
      "        171       1.00      1.00      1.00         1\n",
      "        172       1.00      1.00      1.00         1\n",
      "        173       1.00      1.00      1.00         1\n",
      "        174       1.00      1.00      1.00         1\n",
      "        175       1.00      1.00      1.00         1\n",
      "        176       1.00      1.00      1.00         1\n",
      "        177       1.00      1.00      1.00         1\n",
      "        178       1.00      1.00      1.00         1\n",
      "        179       1.00      1.00      1.00         1\n",
      "        180       1.00      1.00      1.00         1\n",
      "        181       1.00      1.00      1.00         1\n",
      "        182       1.00      1.00      1.00         1\n",
      "        183       1.00      1.00      1.00         1\n",
      "        184       1.00      1.00      1.00         1\n",
      "        185       1.00      1.00      1.00         1\n",
      "        186       1.00      1.00      1.00         1\n",
      "        187       1.00      1.00      1.00         1\n",
      "        188       1.00      1.00      1.00         1\n",
      "        189       1.00      1.00      1.00         1\n",
      "        190       1.00      1.00      1.00         1\n",
      "        191       1.00      1.00      1.00         1\n",
      "        192       1.00      1.00      1.00         1\n",
      "        193       1.00      1.00      1.00         1\n",
      "        194       1.00      1.00      1.00         1\n",
      "        195       1.00      1.00      1.00         1\n",
      "        196       1.00      1.00      1.00         1\n",
      "        197       1.00      1.00      1.00         1\n",
      "        198       1.00      1.00      1.00         1\n",
      "        199       1.00      1.00      1.00         1\n",
      "        200       1.00      1.00      1.00         1\n",
      "        201       1.00      1.00      1.00         1\n",
      "        202       1.00      1.00      1.00         1\n",
      "        203       1.00      1.00      1.00         1\n",
      "        204       1.00      1.00      1.00         1\n",
      "        205       1.00      1.00      1.00         1\n",
      "        206       1.00      1.00      1.00         1\n",
      "        207       1.00      1.00      1.00         1\n",
      "        208       1.00      1.00      1.00         1\n",
      "        209       1.00      1.00      1.00         1\n",
      "        210       1.00      1.00      1.00         1\n",
      "        211       1.00      1.00      1.00         1\n",
      "        212       1.00      1.00      1.00         1\n",
      "        213       1.00      1.00      1.00         1\n",
      "        214       1.00      1.00      1.00         1\n",
      "        215       1.00      1.00      1.00         1\n",
      "        216       1.00      1.00      1.00         1\n",
      "        217       1.00      1.00      1.00         1\n",
      "        218       1.00      1.00      1.00         1\n",
      "        219       1.00      1.00      1.00         1\n",
      "        220       0.25      1.00      0.40         1\n",
      "        221       1.00      1.00      1.00         1\n",
      "        222       1.00      1.00      1.00         1\n",
      "        223       0.50      1.00      0.67         1\n",
      "        224       1.00      1.00      1.00         1\n",
      "        225       0.50      1.00      0.67         1\n",
      "        226       1.00      1.00      1.00         1\n",
      "        227       0.00      0.00      0.00         1\n",
      "        228       1.00      1.00      1.00         1\n",
      "        229       0.00      0.00      0.00         1\n",
      "        230       0.00      0.00      0.00         1\n",
      "        231       0.00      0.00      0.00         1\n",
      "        232       1.00      1.00      1.00         1\n",
      "        233       1.00      1.00      1.00         1\n",
      "        234       0.00      0.00      0.00         1\n",
      "        235       1.00      1.00      1.00         1\n",
      "        236       1.00      1.00      1.00         1\n",
      "        237       0.00      0.00      0.00         1\n",
      "        238       0.00      0.00      0.00         1\n",
      "        239       1.00      1.00      1.00         1\n",
      "        240       0.50      1.00      0.67         1\n",
      "        241       0.00      0.00      0.00         1\n",
      "        242       0.00      0.00      0.00         1\n",
      "        243       1.00      1.00      1.00         1\n",
      "        244       1.00      1.00      1.00         1\n",
      "        245       0.50      1.00      0.67         1\n",
      "        246       1.00      1.00      1.00         1\n",
      "        247       1.00      1.00      1.00         1\n",
      "        248       1.00      1.00      1.00         1\n",
      "        249       1.00      1.00      1.00         1\n",
      "        250       1.00      1.00      1.00         1\n",
      "        251       1.00      1.00      1.00         1\n",
      "        252       1.00      1.00      1.00         1\n",
      "        253       1.00      1.00      1.00         1\n",
      "        254       1.00      1.00      1.00         1\n",
      "        255       1.00      1.00      1.00         1\n",
      "        256       1.00      1.00      1.00         1\n",
      "        257       0.00      0.00      0.00         1\n",
      "        258       1.00      1.00      1.00         1\n",
      "        259       1.00      1.00      1.00         1\n",
      "        260       1.00      1.00      1.00         1\n",
      "        261       1.00      1.00      1.00         1\n",
      "        262       1.00      1.00      1.00         1\n",
      "        263       1.00      1.00      1.00         1\n",
      "        264       1.00      1.00      1.00         1\n",
      "        265       1.00      1.00      1.00         1\n",
      "        266       1.00      1.00      1.00         1\n",
      "        267       1.00      1.00      1.00         1\n",
      "        268       1.00      1.00      1.00         1\n",
      "        269       1.00      1.00      1.00         1\n",
      "        270       1.00      1.00      1.00         1\n",
      "        271       1.00      1.00      1.00         1\n",
      "        272       1.00      1.00      1.00         1\n",
      "        273       1.00      1.00      1.00         1\n",
      "        274       1.00      1.00      1.00         1\n",
      "        275       1.00      1.00      1.00         1\n",
      "        276       1.00      1.00      1.00         1\n",
      "        277       1.00      1.00      1.00         1\n",
      "        278       1.00      1.00      1.00         1\n",
      "        279       1.00      1.00      1.00         1\n",
      "        280       1.00      1.00      1.00         1\n",
      "        281       1.00      1.00      1.00         1\n",
      "        282       1.00      1.00      1.00         1\n",
      "        283       1.00      1.00      1.00         1\n",
      "        284       1.00      1.00      1.00         1\n",
      "        285       1.00      1.00      1.00         1\n",
      "        286       1.00      1.00      1.00         1\n",
      "        287       1.00      1.00      1.00         1\n",
      "        288       1.00      1.00      1.00         1\n",
      "        289       1.00      1.00      1.00         1\n",
      "        290       1.00      1.00      1.00         1\n",
      "        291       1.00      1.00      1.00         1\n",
      "        292       1.00      1.00      1.00         1\n",
      "        293       1.00      1.00      1.00         1\n",
      "        294       1.00      1.00      1.00         1\n",
      "        295       1.00      1.00      1.00         1\n",
      "        296       1.00      1.00      1.00         1\n",
      "        297       1.00      1.00      1.00         1\n",
      "        298       1.00      1.00      1.00         1\n",
      "        299       1.00      1.00      1.00         1\n",
      "        300       1.00      1.00      1.00         1\n",
      "        301       1.00      1.00      1.00         1\n",
      "        302       1.00      1.00      1.00         1\n",
      "        303       1.00      1.00      1.00         1\n",
      "        304       1.00      1.00      1.00         1\n",
      "        305       1.00      1.00      1.00         1\n",
      "        306       1.00      1.00      1.00         1\n",
      "        307       1.00      1.00      1.00         1\n",
      "        308       1.00      1.00      1.00         1\n",
      "        309       1.00      1.00      1.00         1\n",
      "        310       1.00      1.00      1.00         1\n",
      "        311       1.00      1.00      1.00         1\n",
      "        312       1.00      1.00      1.00         1\n",
      "        313       1.00      1.00      1.00         1\n",
      "        314       1.00      1.00      1.00         1\n",
      "        315       1.00      1.00      1.00         1\n",
      "        316       1.00      1.00      1.00         1\n",
      "        317       1.00      1.00      1.00         1\n",
      "        318       1.00      1.00      1.00         1\n",
      "        319       1.00      1.00      1.00         1\n",
      "        320       1.00      1.00      1.00         1\n",
      "        321       1.00      1.00      1.00         1\n",
      "        322       1.00      1.00      1.00         1\n",
      "        323       1.00      1.00      1.00         1\n",
      "        324       1.00      1.00      1.00         1\n",
      "        325       1.00      1.00      1.00         1\n",
      "        326       1.00      1.00      1.00         1\n",
      "        327       1.00      1.00      1.00         1\n",
      "        328       1.00      1.00      1.00         1\n",
      "        329       1.00      1.00      1.00         1\n",
      "        330       1.00      1.00      1.00         1\n",
      "        331       1.00      1.00      1.00         1\n",
      "        332       0.00      0.00      0.00         1\n",
      "        333       1.00      1.00      1.00         1\n",
      "        334       1.00      1.00      1.00         1\n",
      "        335       1.00      1.00      1.00         1\n",
      "        336       1.00      1.00      1.00         1\n",
      "        337       1.00      1.00      1.00         1\n",
      "        338       1.00      1.00      1.00         1\n",
      "        339       1.00      1.00      1.00         1\n",
      "        340       0.00      0.00      0.00         1\n",
      "        341       0.00      0.00      0.00         1\n",
      "        342       1.00      1.00      1.00         1\n",
      "        343       0.00      0.00      0.00         1\n",
      "        344       1.00      1.00      1.00         1\n",
      "        345       1.00      1.00      1.00         1\n",
      "        346       1.00      1.00      1.00         1\n",
      "        347       1.00      1.00      1.00         1\n",
      "        348       0.00      0.00      0.00         1\n",
      "        349       1.00      1.00      1.00         1\n",
      "        350       0.00      0.00      0.00         1\n",
      "        351       1.00      1.00      1.00         1\n",
      "        352       1.00      1.00      1.00         1\n",
      "        353       1.00      1.00      1.00         1\n",
      "        354       1.00      1.00      1.00         1\n",
      "        355       1.00      1.00      1.00         1\n",
      "        356       1.00      1.00      1.00         1\n",
      "        357       1.00      1.00      1.00         1\n",
      "        358       1.00      1.00      1.00         1\n",
      "        359       1.00      1.00      1.00         1\n",
      "        360       1.00      1.00      1.00         1\n",
      "        361       1.00      1.00      1.00         1\n",
      "        362       1.00      1.00      1.00         1\n",
      "        363       1.00      1.00      1.00         1\n",
      "        364       1.00      1.00      1.00         1\n",
      "        365       1.00      1.00      1.00         1\n",
      "        366       1.00      1.00      1.00         1\n",
      "        367       1.00      1.00      1.00         1\n",
      "        368       1.00      1.00      1.00         1\n",
      "        369       1.00      1.00      1.00         1\n",
      "        370       1.00      1.00      1.00         1\n",
      "        371       1.00      1.00      1.00         1\n",
      "        372       1.00      1.00      1.00         1\n",
      "        373       1.00      1.00      1.00         1\n",
      "        374       1.00      1.00      1.00         1\n",
      "        375       1.00      1.00      1.00         1\n",
      "        376       1.00      1.00      1.00         1\n",
      "        377       1.00      1.00      1.00         1\n",
      "        378       1.00      1.00      1.00         1\n",
      "        379       1.00      1.00      1.00         1\n",
      "        380       1.00      1.00      1.00         1\n",
      "        381       1.00      1.00      1.00         1\n",
      "        382       1.00      1.00      1.00         1\n",
      "        383       1.00      1.00      1.00         1\n",
      "        384       1.00      1.00      1.00         1\n",
      "        385       1.00      1.00      1.00         1\n",
      "        386       1.00      1.00      1.00         1\n",
      "        387       1.00      1.00      1.00         1\n",
      "        388       1.00      1.00      1.00         1\n",
      "        389       1.00      1.00      1.00         1\n",
      "        390       1.00      1.00      1.00         1\n",
      "        391       1.00      1.00      1.00         1\n",
      "        392       1.00      1.00      1.00         1\n",
      "        393       1.00      1.00      1.00         1\n",
      "        394       1.00      1.00      1.00         1\n",
      "        395       1.00      1.00      1.00         1\n",
      "        396       1.00      1.00      1.00         1\n",
      "        397       1.00      1.00      1.00         1\n",
      "        398       1.00      1.00      1.00         1\n",
      "        399       1.00      1.00      1.00         1\n",
      "        400       1.00      1.00      1.00         1\n",
      "        401       1.00      1.00      1.00         1\n",
      "        402       1.00      1.00      1.00         1\n",
      "        403       1.00      1.00      1.00         1\n",
      "        404       1.00      1.00      1.00         1\n",
      "        405       1.00      1.00      1.00         1\n",
      "        406       1.00      1.00      1.00         1\n",
      "        407       1.00      1.00      1.00         1\n",
      "        408       1.00      1.00      1.00         1\n",
      "        409       1.00      1.00      1.00         1\n",
      "        410       1.00      1.00      1.00         1\n",
      "        411       1.00      1.00      1.00         1\n",
      "        412       1.00      1.00      1.00         1\n",
      "        413       1.00      1.00      1.00         1\n",
      "        414       1.00      1.00      1.00         1\n",
      "        415       1.00      1.00      1.00         1\n",
      "        416       1.00      1.00      1.00         1\n",
      "        417       1.00      1.00      1.00         1\n",
      "        418       1.00      1.00      1.00         1\n",
      "        419       1.00      1.00      1.00         1\n",
      "        420       1.00      1.00      1.00         1\n",
      "        421       1.00      1.00      1.00         1\n",
      "        422       1.00      1.00      1.00         1\n",
      "        423       1.00      1.00      1.00         1\n",
      "        424       1.00      1.00      1.00         1\n",
      "        425       1.00      1.00      1.00         1\n",
      "        426       1.00      1.00      1.00         1\n",
      "        427       1.00      1.00      1.00         1\n",
      "        428       1.00      1.00      1.00         1\n",
      "        429       1.00      1.00      1.00         1\n",
      "        430       1.00      1.00      1.00         1\n",
      "        431       1.00      1.00      1.00         1\n",
      "        432       1.00      1.00      1.00         1\n",
      "        433       1.00      1.00      1.00         1\n",
      "        434       1.00      1.00      1.00         1\n",
      "        435       1.00      1.00      1.00         1\n",
      "        436       1.00      1.00      1.00         1\n",
      "        437       1.00      1.00      1.00         1\n",
      "        438       1.00      1.00      1.00         1\n",
      "        439       1.00      1.00      1.00         1\n",
      "        440       1.00      1.00      1.00         1\n",
      "        441       1.00      1.00      1.00         1\n",
      "        442       1.00      1.00      1.00         1\n",
      "        443       1.00      1.00      1.00         1\n",
      "        444       1.00      1.00      1.00         1\n",
      "        445       1.00      1.00      1.00         1\n",
      "        446       1.00      1.00      1.00         1\n",
      "        447       1.00      1.00      1.00         1\n",
      "        448       1.00      1.00      1.00         1\n",
      "        449       1.00      1.00      1.00         1\n",
      "        450       1.00      1.00      1.00         1\n",
      "        451       1.00      1.00      1.00         1\n",
      "        452       1.00      1.00      1.00         1\n",
      "        453       1.00      1.00      1.00         1\n",
      "        454       1.00      1.00      1.00         1\n",
      "        455       1.00      1.00      1.00         1\n",
      "        456       1.00      1.00      1.00         1\n",
      "        457       1.00      1.00      1.00         1\n",
      "        458       1.00      1.00      1.00         1\n",
      "        459       1.00      1.00      1.00         1\n",
      "        460       1.00      1.00      1.00         1\n",
      "        461       1.00      1.00      1.00         1\n",
      "        462       1.00      1.00      1.00         1\n",
      "        463       1.00      1.00      1.00         1\n",
      "        464       1.00      1.00      1.00         1\n",
      "        465       1.00      1.00      1.00         1\n",
      "        466       1.00      1.00      1.00         1\n",
      "        467       1.00      1.00      1.00         1\n",
      "        468       1.00      1.00      1.00         1\n",
      "        469       1.00      1.00      1.00         1\n",
      "        470       1.00      1.00      1.00         1\n",
      "        471       1.00      1.00      1.00         1\n",
      "        472       1.00      1.00      1.00         1\n",
      "        473       1.00      1.00      1.00         1\n",
      "        474       1.00      1.00      1.00         1\n",
      "        475       1.00      1.00      1.00         1\n",
      "        476       1.00      1.00      1.00         1\n",
      "        477       1.00      1.00      1.00         1\n",
      "        478       1.00      1.00      1.00         1\n",
      "        479       1.00      1.00      1.00         1\n",
      "        480       1.00      1.00      1.00         1\n",
      "        481       1.00      1.00      1.00         1\n",
      "        482       1.00      1.00      1.00         1\n",
      "        483       1.00      1.00      1.00         1\n",
      "        484       1.00      1.00      1.00         1\n",
      "        485       1.00      1.00      1.00         1\n",
      "        486       1.00      1.00      1.00         1\n",
      "        487       1.00      1.00      1.00         1\n",
      "        488       1.00      1.00      1.00         1\n",
      "        489       1.00      1.00      1.00         1\n",
      "        490       1.00      1.00      1.00         1\n",
      "        491       1.00      1.00      1.00         1\n",
      "        492       1.00      1.00      1.00         1\n",
      "        493       1.00      1.00      1.00         1\n",
      "        494       1.00      1.00      1.00         1\n",
      "        495       1.00      1.00      1.00         1\n",
      "        496       1.00      1.00      1.00         1\n",
      "        497       1.00      1.00      1.00         1\n",
      "        498       1.00      1.00      1.00         1\n",
      "        499       1.00      1.00      1.00         1\n",
      "        500       1.00      1.00      1.00         1\n",
      "        501       1.00      1.00      1.00         1\n",
      "        502       1.00      1.00      1.00         1\n",
      "        503       1.00      1.00      1.00         1\n",
      "        504       1.00      1.00      1.00         1\n",
      "        505       1.00      1.00      1.00         1\n",
      "        506       1.00      1.00      1.00         1\n",
      "        507       1.00      1.00      1.00         1\n",
      "        508       1.00      1.00      1.00         1\n",
      "        509       1.00      1.00      1.00         1\n",
      "        510       1.00      1.00      1.00         1\n",
      "        511       1.00      1.00      1.00         1\n",
      "        512       1.00      1.00      1.00         1\n",
      "        513       1.00      1.00      1.00         1\n",
      "        514       1.00      1.00      1.00         1\n",
      "        515       1.00      1.00      1.00         1\n",
      "        516       1.00      1.00      1.00         1\n",
      "        517       1.00      1.00      1.00         1\n",
      "        518       1.00      1.00      1.00         1\n",
      "        519       1.00      1.00      1.00         1\n",
      "        520       1.00      1.00      1.00         1\n",
      "        521       1.00      1.00      1.00         1\n",
      "        522       1.00      1.00      1.00         1\n",
      "        523       1.00      1.00      1.00         1\n",
      "        524       1.00      1.00      1.00         1\n",
      "        525       1.00      1.00      1.00         1\n",
      "        526       1.00      1.00      1.00         1\n",
      "        527       1.00      1.00      1.00         1\n",
      "        528       1.00      1.00      1.00         1\n",
      "        529       1.00      1.00      1.00         1\n",
      "        530       1.00      1.00      1.00         1\n",
      "        531       1.00      1.00      1.00         1\n",
      "        532       1.00      1.00      1.00         1\n",
      "        533       1.00      1.00      1.00         1\n",
      "        534       1.00      1.00      1.00         1\n",
      "        535       1.00      1.00      1.00         1\n",
      "        536       1.00      1.00      1.00         1\n",
      "        537       1.00      1.00      1.00         1\n",
      "        538       1.00      1.00      1.00         1\n",
      "        539       1.00      1.00      1.00         1\n",
      "        540       1.00      1.00      1.00         1\n",
      "        541       1.00      1.00      1.00         1\n",
      "        542       1.00      1.00      1.00         1\n",
      "        543       1.00      1.00      1.00         1\n",
      "        544       1.00      1.00      1.00         1\n",
      "        545       1.00      1.00      1.00         1\n",
      "        546       1.00      1.00      1.00         1\n",
      "        547       1.00      1.00      1.00         1\n",
      "        548       1.00      1.00      1.00         1\n",
      "        549       1.00      1.00      1.00         1\n",
      "        550       1.00      1.00      1.00         1\n",
      "        551       1.00      1.00      1.00         1\n",
      "        552       1.00      1.00      1.00         1\n",
      "        553       1.00      1.00      1.00         1\n",
      "        554       1.00      1.00      1.00         1\n",
      "        555       1.00      1.00      1.00         1\n",
      "        556       1.00      1.00      1.00         1\n",
      "        557       1.00      1.00      1.00         1\n",
      "        558       1.00      1.00      1.00         1\n",
      "        559       1.00      1.00      1.00         1\n",
      "        560       1.00      1.00      1.00         1\n",
      "        561       1.00      1.00      1.00         1\n",
      "        562       1.00      1.00      1.00         1\n",
      "        563       1.00      1.00      1.00         1\n",
      "        564       1.00      1.00      1.00         1\n",
      "        565       1.00      1.00      1.00         1\n",
      "        566       1.00      1.00      1.00         1\n",
      "        567       1.00      1.00      1.00         1\n",
      "        568       1.00      1.00      1.00         1\n",
      "        569       1.00      1.00      1.00         1\n",
      "        570       1.00      1.00      1.00         1\n",
      "        571       1.00      1.00      1.00         1\n",
      "        572       1.00      1.00      1.00         1\n",
      "        573       1.00      1.00      1.00         1\n",
      "        574       1.00      1.00      1.00         1\n",
      "        575       1.00      1.00      1.00         1\n",
      "        576       1.00      1.00      1.00         1\n",
      "        577       1.00      1.00      1.00         1\n",
      "        578       1.00      1.00      1.00         1\n",
      "        579       1.00      1.00      1.00         1\n",
      "        580       1.00      1.00      1.00         1\n",
      "        581       1.00      1.00      1.00         1\n",
      "        582       1.00      1.00      1.00         1\n",
      "        583       1.00      1.00      1.00         1\n",
      "        584       1.00      1.00      1.00         1\n",
      "        585       1.00      1.00      1.00         1\n",
      "        586       1.00      1.00      1.00         1\n",
      "        587       1.00      1.00      1.00         1\n",
      "        588       1.00      1.00      1.00         1\n",
      "        589       1.00      1.00      1.00         1\n",
      "        590       1.00      1.00      1.00         1\n",
      "        591       1.00      1.00      1.00         1\n",
      "        592       1.00      1.00      1.00         1\n",
      "        593       1.00      1.00      1.00         1\n",
      "        594       1.00      1.00      1.00         1\n",
      "        595       1.00      1.00      1.00         1\n",
      "        596       1.00      1.00      1.00         1\n",
      "        597       1.00      1.00      1.00         1\n",
      "        598       1.00      1.00      1.00         1\n",
      "        599       1.00      1.00      1.00         1\n",
      "        600       1.00      1.00      1.00         1\n",
      "        601       1.00      1.00      1.00         1\n",
      "        602       1.00      1.00      1.00         1\n",
      "        603       1.00      1.00      1.00         1\n",
      "        604       1.00      1.00      1.00         1\n",
      "        605       1.00      1.00      1.00         1\n",
      "        606       1.00      1.00      1.00         1\n",
      "        607       1.00      1.00      1.00         1\n",
      "        608       1.00      1.00      1.00         1\n",
      "        609       1.00      1.00      1.00         1\n",
      "        610       1.00      1.00      1.00         1\n",
      "        611       1.00      1.00      1.00         1\n",
      "        612       1.00      1.00      1.00         1\n",
      "        613       1.00      1.00      1.00         1\n",
      "        614       1.00      1.00      1.00         1\n",
      "        615       1.00      1.00      1.00         1\n",
      "        616       1.00      1.00      1.00         1\n",
      "        617       1.00      1.00      1.00         1\n",
      "        618       1.00      1.00      1.00         1\n",
      "        619       0.50      1.00      0.67         1\n",
      "        620       0.00      0.00      0.00         1\n",
      "        621       1.00      1.00      1.00         1\n",
      "        622       1.00      1.00      1.00         1\n",
      "        623       1.00      1.00      1.00         1\n",
      "        624       1.00      1.00      1.00         1\n",
      "        625       1.00      1.00      1.00         1\n",
      "        626       1.00      1.00      1.00         1\n",
      "        627       1.00      1.00      1.00         1\n",
      "        628       1.00      1.00      1.00         1\n",
      "        629       1.00      1.00      1.00         1\n",
      "        630       1.00      1.00      1.00         1\n",
      "        631       1.00      1.00      1.00         1\n",
      "        632       1.00      1.00      1.00         1\n",
      "        633       1.00      1.00      1.00         1\n",
      "        634       1.00      1.00      1.00         1\n",
      "        635       1.00      1.00      1.00         1\n",
      "        636       1.00      1.00      1.00         1\n",
      "        637       1.00      1.00      1.00         1\n",
      "        638       1.00      1.00      1.00         1\n",
      "        639       1.00      1.00      1.00         1\n",
      "        640       1.00      1.00      1.00         1\n",
      "\n",
      "avg / total       0.93      0.95      0.94       640\n",
      "\n"
     ]
    },
    {
     "name": "stderr",
     "output_type": "stream",
     "text": [
      "C:\\Users\\vinayajx\\AppData\\Local\\Continuum\\anaconda3\\lib\\site-packages\\sklearn\\metrics\\classification.py:1135: UndefinedMetricWarning: Precision and F-score are ill-defined and being set to 0.0 in labels with no predicted samples.\n",
      "  'precision', 'predicted', average, warn_for)\n"
     ]
    }
   ],
   "source": [
    "print(classification_report(labels,y_pred))"
   ]
  },
  {
   "cell_type": "code",
   "execution_count": 26,
   "metadata": {},
   "outputs": [
    {
     "data": {
      "text/plain": [
       "array([[1, 0, 0, ..., 0, 0, 0],\n",
       "       [0, 1, 0, ..., 0, 0, 0],\n",
       "       [0, 0, 1, ..., 0, 0, 0],\n",
       "       ...,\n",
       "       [0, 0, 0, ..., 1, 0, 0],\n",
       "       [0, 0, 0, ..., 0, 1, 0],\n",
       "       [0, 0, 0, ..., 0, 0, 1]], dtype=int64)"
      ]
     },
     "execution_count": 26,
     "metadata": {},
     "output_type": "execute_result"
    }
   ],
   "source": [
    "confusion_matrix(labels,y_pred)"
   ]
  },
  {
   "cell_type": "code",
   "execution_count": 27,
   "metadata": {},
   "outputs": [],
   "source": [
    "class ChatBot:\n",
    "    exit_commands = (\"quit\", \"pause\", \"exit\", \"goodbye\", \"bye\", \"later\", \"stop\")\n",
    "    def start_chat(self):\n",
    "        user_response = input(\"Hi, I'm a bot,How can i help you?\\n\")\n",
    "        self.chat(Cleaning_questions(user_response))\n",
    "  \n",
    "    def chat(self, reply):\n",
    "        while not self.make_exit(reply):\n",
    "            reply = input(self.generate_response(reply)+\"\\n\")\n",
    "        return\n",
    "  \n",
    "    def generate_response(self, ans):\n",
    "        input_vector = bow_vectorizer.transform([ans])\n",
    "        predict = classifier.predict(input_vector)\n",
    "        index = int(predict[0])\n",
    "        #print(\"Accurate:\",str(classifier.predict_proba(input_vector)[0][index-1] * 1000)[:5] + \"%\")\n",
    "        return answers[index-1]\n",
    "        print()\n",
    "    def make_exit(self, reply):\n",
    "        for exit_command in self.exit_commands:\n",
    "            if exit_command in reply:\n",
    "                print(\"Ok, have a great day!\")\n",
    "                return True\n",
    "        return False"
   ]
  },
  {
   "cell_type": "code",
   "execution_count": 28,
   "metadata": {},
   "outputs": [
    {
     "name": "stdout",
     "output_type": "stream",
     "text": [
      "Hi, I'm a bot,How can i help you?\n",
      "hi\n",
      "Hi there\n",
      "how are you\n",
      "Good, tell me..\n",
      "tell me about reva university\n",
      "REVA Institute of Technology & Management (RITM) was affiliated to Visvesvaraya Technological University, now it is merged to REVA University. Both the institutions are the same. The closure of institute RITM with effect from the academic year 2016-17. \n",
      "Reva University is an autonomous college with its own syllabus and exam patterns. Reva Institute of Technology is an affiliated college to Visvesvaraya Technological University, which means the syllabus and exam pattern will be based on VTU guidelines.\n",
      "bye\n",
      "Ok, have a great day!\n"
     ]
    }
   ],
   "source": [
    "etcetera = ChatBot()\n",
    "etcetera.start_chat()"
   ]
  },
  {
   "cell_type": "code",
   "execution_count": 45,
   "metadata": {
    "scrolled": false
   },
   "outputs": [
    {
     "data": {
      "text/plain": [
       "DecisionTreeClassifier()"
      ]
     },
     "execution_count": 45,
     "metadata": {},
     "output_type": "execute_result"
    }
   ],
   "source": [
    "#decision tree\n",
    "from sklearn.tree import DecisionTreeClassifier\n",
    "classifier=DecisionTreeClassifier()\n",
    "classifier.fit(training_vectors, labels)"
   ]
  },
  {
   "cell_type": "code",
   "execution_count": 46,
   "metadata": {},
   "outputs": [],
   "source": [
    "y_pred=classifier.predict(training_vectors)"
   ]
  },
  {
   "cell_type": "code",
   "execution_count": 47,
   "metadata": {},
   "outputs": [
    {
     "data": {
      "text/plain": [
       "0.9608763693270735"
      ]
     },
     "execution_count": 47,
     "metadata": {},
     "output_type": "execute_result"
    }
   ],
   "source": [
    "accuracy_score(labels,y_pred)"
   ]
  },
  {
   "cell_type": "code",
   "execution_count": 48,
   "metadata": {},
   "outputs": [
    {
     "data": {
      "text/plain": [
       "array([[1, 0, 0, ..., 0, 0, 0],\n",
       "       [0, 1, 0, ..., 0, 0, 0],\n",
       "       [0, 0, 1, ..., 0, 0, 0],\n",
       "       ...,\n",
       "       [0, 0, 0, ..., 1, 0, 0],\n",
       "       [0, 0, 0, ..., 0, 1, 0],\n",
       "       [0, 0, 0, ..., 0, 0, 1]], dtype=int64)"
      ]
     },
     "execution_count": 48,
     "metadata": {},
     "output_type": "execute_result"
    }
   ],
   "source": [
    "confusion_matrix(labels,y_pred)"
   ]
  },
  {
   "cell_type": "code",
   "execution_count": 46,
   "metadata": {},
   "outputs": [
    {
     "name": "stdout",
     "output_type": "stream",
     "text": [
      "Hi, I'm a bot,How can i help you?\n",
      "hi\n",
      "Checkhttps://ruerp.reva.edu.in/website to view the fees due.\n",
      "Cost of the guest house for parents?\n",
      "Checkhttps://ruerp.reva.edu.in/website to view the fees due.\n",
      "What is the usual academic year?\n",
      "BTech  August\n",
      "MTech  Last week of August\n",
      "Non-engineering  June\n",
      "Is REVA University a private or deemed University?\n",
      "REVA CET is the Common Entrance Test conducted by REVA University for admission into its various programs. REVA CET forms the basis of eligibility for some of the programmes offered by REVA University along with scholarship. Visit website https://www.revacet.com/\n",
      "What do I do if I am sick?\n",
      "Your warden should give written permission to your friend and your friend will carry your mobile or smart card to scan the QR code and pick up the meals.\n",
      "bye\n",
      "Ok, have a great day!\n"
     ]
    }
   ],
   "source": [
    "etcetera = ChatBot()\n",
    "etcetera.start_chat()"
   ]
  },
  {
   "cell_type": "code",
   "execution_count": 49,
   "metadata": {},
   "outputs": [
    {
     "data": {
      "text/plain": [
       "SVC(kernel='linear', probability=True)"
      ]
     },
     "execution_count": 49,
     "metadata": {},
     "output_type": "execute_result"
    }
   ],
   "source": [
    "#SVM\n",
    "from sklearn.svm import SVC  \n",
    "classifier = SVC(kernel='linear',probability=True) \n",
    "  \n",
    "# fitting x samples and y classes \n",
    "classifier.fit(training_vectors, labels) "
   ]
  },
  {
   "cell_type": "code",
   "execution_count": 50,
   "metadata": {},
   "outputs": [],
   "source": [
    "y_pred=classifier.predict(training_vectors)"
   ]
  },
  {
   "cell_type": "code",
   "execution_count": 51,
   "metadata": {
    "scrolled": true
   },
   "outputs": [
    {
     "data": {
      "text/plain": [
       "array([[1, 0, 0, ..., 0, 0, 0],\n",
       "       [0, 1, 0, ..., 0, 0, 0],\n",
       "       [0, 0, 1, ..., 0, 0, 0],\n",
       "       ...,\n",
       "       [0, 0, 0, ..., 1, 0, 0],\n",
       "       [0, 0, 0, ..., 0, 1, 0],\n",
       "       [0, 0, 0, ..., 0, 0, 1]], dtype=int64)"
      ]
     },
     "execution_count": 51,
     "metadata": {},
     "output_type": "execute_result"
    }
   ],
   "source": [
    "confusion_matrix(labels,y_pred)"
   ]
  },
  {
   "cell_type": "code",
   "execution_count": 52,
   "metadata": {},
   "outputs": [
    {
     "data": {
      "text/plain": [
       "0.9608763693270735"
      ]
     },
     "execution_count": 52,
     "metadata": {},
     "output_type": "execute_result"
    }
   ],
   "source": [
    "accuracy_score(labels,y_pred)"
   ]
  },
  {
   "cell_type": "code",
   "execution_count": 48,
   "metadata": {},
   "outputs": [
    {
     "name": "stdout",
     "output_type": "stream",
     "text": [
      "Hi, I'm a bot,How can i help you?\n",
      "hi\n",
      "Hi there\n",
      "Do you have NCC and NSS?\n",
      "Yes, REVA University have both NSS and NCC. Regular activities like drill, refile drill, map reading, weapon training, field craft and battle craft to name a few are being imparted to the cadets as per the syllabus framed by NCC directorate, Bengaluru for NCC. NSS is associated with creating awareness program on various topics like global warming, sanitation and ODF, swachh bharat etc. Also, NSS and NCC offered as open elective to all the programs \n",
      "Do you have health center?\n",
      "Yes, well-equipped Health care Centre headed by a full time Resident Doctor and supported by paramedical staff is located on the campus.\n",
      "What are the application timeline for the admission?\n",
      "The application have varied timelines. For details www.reva.edu.in \n",
      "Is NATA compulsory for architecture students?\n",
      "Yes, NATA is compulsory for architecture students.\n",
      "quit\n",
      "Ok, have a great day!\n"
     ]
    }
   ],
   "source": [
    "etcetera = ChatBot()\n",
    "etcetera.start_chat()"
   ]
  },
  {
   "cell_type": "code",
   "execution_count": 53,
   "metadata": {},
   "outputs": [
    {
     "data": {
      "text/plain": [
       "KNeighborsClassifier(n_neighbors=7)"
      ]
     },
     "execution_count": 53,
     "metadata": {},
     "output_type": "execute_result"
    }
   ],
   "source": [
    "#KNN\n",
    "from sklearn.neighbors import KNeighborsClassifier\n",
    "classifier = KNeighborsClassifier(n_neighbors=7)\n",
    "classifier.fit(training_vectors, labels)"
   ]
  },
  {
   "cell_type": "code",
   "execution_count": 54,
   "metadata": {},
   "outputs": [],
   "source": [
    "y_pred=classifier.predict(training_vectors)"
   ]
  },
  {
   "cell_type": "code",
   "execution_count": 55,
   "metadata": {
    "scrolled": true
   },
   "outputs": [
    {
     "data": {
      "text/plain": [
       "0.09859154929577464"
      ]
     },
     "execution_count": 55,
     "metadata": {},
     "output_type": "execute_result"
    }
   ],
   "source": [
    "accuracy_score(labels,y_pred)"
   ]
  },
  {
   "cell_type": "code",
   "execution_count": 56,
   "metadata": {},
   "outputs": [
    {
     "data": {
      "text/plain": [
       "array([[1, 0, 0, ..., 0, 0, 0],\n",
       "       [0, 1, 0, ..., 0, 0, 0],\n",
       "       [0, 1, 0, ..., 0, 0, 0],\n",
       "       ...,\n",
       "       [0, 0, 0, ..., 0, 0, 0],\n",
       "       [0, 0, 0, ..., 0, 0, 0],\n",
       "       [0, 0, 0, ..., 0, 0, 0]], dtype=int64)"
      ]
     },
     "execution_count": 56,
     "metadata": {},
     "output_type": "execute_result"
    }
   ],
   "source": [
    "confusion_matrix(labels,y_pred)"
   ]
  },
  {
   "cell_type": "code",
   "execution_count": 50,
   "metadata": {},
   "outputs": [
    {
     "name": "stdout",
     "output_type": "stream",
     "text": [
      "Hi, I'm a bot,How can i help you?\n",
      "hi\n",
      "Check the academic calendar\n",
      "How many days of Maternity leave/Matrimonial as per the leave policy.\n",
      "45+ acres of lush green campus.\n",
      "What do we do if we miss swipe?\n",
      "Your warden should give written permission to your friend and your friend will carry your mobile or smart card to scan the QR code and pick up the meals.\n",
      "Do you offer B.SC. IN NUTRITION AND DIETETICS?\n",
      "Yes, we offer M.SC. IN PHYSICS\n",
      "What are the prerequisites to join corporate programs?\n",
      "LLM in Business and Corporate Law   (1 Year)\n",
      "LLM in Criminal Law\n",
      "bye\n",
      "Ok, have a great day!\n"
     ]
    }
   ],
   "source": [
    "etcetera = ChatBot()\n",
    "etcetera.start_chat()"
   ]
  },
  {
   "cell_type": "code",
   "execution_count": 57,
   "metadata": {},
   "outputs": [
    {
     "data": {
      "text/plain": [
       "LogisticRegression()"
      ]
     },
     "execution_count": 57,
     "metadata": {},
     "output_type": "execute_result"
    }
   ],
   "source": [
    "#Logistic Regression\n",
    "from sklearn import linear_model\n",
    "classifier = linear_model.LogisticRegression()\n",
    "classifier.fit(training_vectors, labels)"
   ]
  },
  {
   "cell_type": "code",
   "execution_count": 58,
   "metadata": {
    "scrolled": true
   },
   "outputs": [
    {
     "data": {
      "text/plain": [
       "array([[1, 0, 0, ..., 0, 0, 0],\n",
       "       [0, 1, 0, ..., 0, 0, 0],\n",
       "       [0, 1, 0, ..., 0, 0, 0],\n",
       "       ...,\n",
       "       [0, 0, 0, ..., 0, 0, 0],\n",
       "       [0, 0, 0, ..., 0, 0, 0],\n",
       "       [0, 0, 0, ..., 0, 0, 0]], dtype=int64)"
      ]
     },
     "execution_count": 58,
     "metadata": {},
     "output_type": "execute_result"
    }
   ],
   "source": [
    "confusion_matrix(labels,y_pred)"
   ]
  },
  {
   "cell_type": "code",
   "execution_count": 59,
   "metadata": {},
   "outputs": [
    {
     "data": {
      "text/plain": [
       "0.09859154929577464"
      ]
     },
     "execution_count": 59,
     "metadata": {},
     "output_type": "execute_result"
    }
   ],
   "source": [
    "accuracy_score(labels,y_pred)"
   ]
  },
  {
   "cell_type": "code",
   "execution_count": 23,
   "metadata": {},
   "outputs": [
    {
     "name": "stdout",
     "output_type": "stream",
     "text": [
      "Hi, I'm a bot,How can i help you?\n",
      "hi\n",
      "Hi there\n",
      "Does REVA University have its own syllabus?\n",
      "Yes, REVA University has its own syllabus.\n",
      "Events hosted at REVA university\n",
      "Now, just imagine that as a student, you will be exposed to a variety of student clubs and committees for extra-curricular, industrial trips and internships, Snacks at the food court, sports & gym facilities, cultural fest (REVOTHSAVA) and allied events (Smart India Hackathon), organized outings, weekend movies and much more. Here is the dream life you have been waiting for.\n",
      "When can an application get rejected and will I get a refund?\n",
      "Incorrectly filled, incomplete and unsigned applications are rejected.\n",
      "Application once rejected will not be reconsidered and application cost will not be refunded.\n",
      "Does REVA have a hostel?\n",
      "Yes\n",
      "bye\n",
      "Ok, have a great day!\n"
     ]
    }
   ],
   "source": [
    "etcetera = ChatBot()\n",
    "etcetera.start_chat()"
   ]
  },
  {
   "cell_type": "code",
   "execution_count": 24,
   "metadata": {},
   "outputs": [],
   "source": [
    "import joblib"
   ]
  },
  {
   "cell_type": "code",
   "execution_count": 25,
   "metadata": {},
   "outputs": [
    {
     "data": {
      "text/plain": [
       "['model_LR.joblib']"
      ]
     },
     "execution_count": 25,
     "metadata": {},
     "output_type": "execute_result"
    }
   ],
   "source": [
    "joblib.dump(bow_vectorizer,\"bow_vectorizer.joblib\")\n",
    "joblib.dump(classifier,\"model_MNB.joblib\")"
   ]
  },
  {
   "cell_type": "code",
   "execution_count": 32,
   "metadata": {},
   "outputs": [],
   "source": [
    "import pyttsx3\n",
    "import speech_recognition as sr"
   ]
  },
  {
   "cell_type": "code",
   "execution_count": null,
   "metadata": {},
   "outputs": [
    {
     "name": "stdout",
     "output_type": "stream",
     "text": [
      "hello\n",
      "do engineering if i have not taken mathematics in puc\n",
      "unable to connect admission department i am unable to connect to admission department want are the computer application courses offered in ug\n",
      "what are the law courses offered in ug\n",
      "what are the mtech courses offered what are the courses offered in ug\n",
      "what are the mtech courses offered\n",
      "A KeyboardInterrupt encountered; Terminating the Program !!!\n",
      "A KeyboardInterrupt encountered; Terminating the Program !!!\n",
      "A KeyboardInterrupt encountered; Terminating the Program !!!\n",
      "No User Voice detected OR unintelligible noises detected OR the recognized audio cannot be matched to text !!!\n",
      "No User Voice detected OR unintelligible noises detected OR the recognized audio cannot be matched to text !!!\n"
     ]
    }
   ],
   "source": [
    "import speech_recognition\n",
    " \n",
    "# The Recognizer is initialized.\n",
    "UserVoiceRecognizer = speech_recognition.Recognizer()\n",
    " \n",
    "while(1):\n",
    "    try:\n",
    " \n",
    "        with speech_recognition.Microphone() as UserVoiceInputSource:\n",
    " \n",
    "            UserVoiceRecognizer.adjust_for_ambient_noise(UserVoiceInputSource, duration=0.5)\n",
    " \n",
    "            # The Program listens to the user voice input.\n",
    "            UserVoiceInput = UserVoiceRecognizer.listen(UserVoiceInputSource)\n",
    " \n",
    "            UserVoiceInput_converted_to_Text = UserVoiceRecognizer.recognize_google(UserVoiceInput)\n",
    "            UserVoiceInput_converted_to_Text = UserVoiceInput_converted_to_Text.lower()\n",
    "            print(UserVoiceInput_converted_to_Text)\n",
    "    \n",
    "    except KeyboardInterrupt:\n",
    "        print('A KeyboardInterrupt encountered; Terminating the Program !!!')\n",
    "        exit(0)\n",
    "    \n",
    "    except speech_recognition.UnknownValueError:\n",
    "        print(\"No User Voice detected OR unintelligible noises detected OR the recognized audio cannot be matched to text !!!\")\n"
   ]
  },
  {
   "cell_type": "code",
   "execution_count": 1,
   "metadata": {},
   "outputs": [
    {
     "name": "stdout",
     "output_type": "stream",
     "text": [
      "recording started...\n",
      "finished recording\n"
     ]
    }
   ],
   "source": [
    "import speech_recognition as sr\n",
    "r = sr.Recognizer()\n",
    "with sr.Microphone() as source:\n",
    "    print(\"recording started...\")\n",
    "    audio = r.listen(source,phrase_time_limit=10)\n",
    "    print(\"finished recording\")"
   ]
  },
  {
   "cell_type": "code",
   "execution_count": null,
   "metadata": {},
   "outputs": [],
   "source": [
    "try:\n",
    "    print(\"You said \" + r.recognize_google(audio))  \n",
    "except LookupError:                          \n",
    "    print(\"Could not understand audio\")"
   ]
  },
  {
   "cell_type": "code",
   "execution_count": null,
   "metadata": {},
   "outputs": [],
   "source": []
  }
 ],
 "metadata": {
  "kernelspec": {
   "display_name": "Python 3",
   "language": "python",
   "name": "python3"
  },
  "language_info": {
   "codemirror_mode": {
    "name": "ipython",
    "version": 3
   },
   "file_extension": ".py",
   "mimetype": "text/x-python",
   "name": "python",
   "nbconvert_exporter": "python",
   "pygments_lexer": "ipython3",
   "version": "3.6.5"
  }
 },
 "nbformat": 4,
 "nbformat_minor": 2
}
